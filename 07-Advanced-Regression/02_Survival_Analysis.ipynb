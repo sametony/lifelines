{
  "cells": [
    {
      "cell_type": "markdown",
      "metadata": {
        "id": "view-in-github",
        "colab_type": "text"
      },
      "source": [
        "<a href=\"https://colab.research.google.com/github/sametony/lifelines/blob/master/07-Advanced-Regression/02_Survival_Analysis.ipynb\" target=\"_parent\"><img src=\"https://colab.research.google.com/assets/colab-badge.svg\" alt=\"Open In Colab\"/></a>"
      ]
    },
    {
      "cell_type": "markdown",
      "metadata": {
        "id": "gvWCVJAAWW8e"
      },
      "source": [
        "# Survival Analysis"
      ]
    },
    {
      "cell_type": "code",
      "execution_count": 3,
      "metadata": {
        "id": "VXBhczCTWW8g",
        "outputId": "5338ab1b-64c1-4e00-ac04-42b158343eee",
        "colab": {
          "base_uri": "https://localhost:8080/"
        }
      },
      "outputs": [
        {
          "output_type": "stream",
          "name": "stdout",
          "text": [
            "Requirement already satisfied: lifelines in /usr/local/lib/python3.10/dist-packages (0.30.0)\n",
            "Requirement already satisfied: numpy>=1.14.0 in /usr/local/lib/python3.10/dist-packages (from lifelines) (1.26.4)\n",
            "Requirement already satisfied: scipy>=1.7.0 in /usr/local/lib/python3.10/dist-packages (from lifelines) (1.13.1)\n",
            "Requirement already satisfied: pandas>=2.1 in /usr/local/lib/python3.10/dist-packages (from lifelines) (2.2.2)\n",
            "Requirement already satisfied: matplotlib>=3.0 in /usr/local/lib/python3.10/dist-packages (from lifelines) (3.8.0)\n",
            "Requirement already satisfied: autograd>=1.5 in /usr/local/lib/python3.10/dist-packages (from lifelines) (1.7.0)\n",
            "Requirement already satisfied: autograd-gamma>=0.3 in /usr/local/lib/python3.10/dist-packages (from lifelines) (0.5.0)\n",
            "Requirement already satisfied: formulaic>=0.2.2 in /usr/local/lib/python3.10/dist-packages (from lifelines) (1.1.1)\n",
            "Requirement already satisfied: interface-meta>=1.2.0 in /usr/local/lib/python3.10/dist-packages (from formulaic>=0.2.2->lifelines) (1.3.0)\n",
            "Requirement already satisfied: typing-extensions>=4.2.0 in /usr/local/lib/python3.10/dist-packages (from formulaic>=0.2.2->lifelines) (4.12.2)\n",
            "Requirement already satisfied: wrapt>=1.0 in /usr/local/lib/python3.10/dist-packages (from formulaic>=0.2.2->lifelines) (1.17.0)\n",
            "Requirement already satisfied: contourpy>=1.0.1 in /usr/local/lib/python3.10/dist-packages (from matplotlib>=3.0->lifelines) (1.3.1)\n",
            "Requirement already satisfied: cycler>=0.10 in /usr/local/lib/python3.10/dist-packages (from matplotlib>=3.0->lifelines) (0.12.1)\n",
            "Requirement already satisfied: fonttools>=4.22.0 in /usr/local/lib/python3.10/dist-packages (from matplotlib>=3.0->lifelines) (4.55.3)\n",
            "Requirement already satisfied: kiwisolver>=1.0.1 in /usr/local/lib/python3.10/dist-packages (from matplotlib>=3.0->lifelines) (1.4.7)\n",
            "Requirement already satisfied: packaging>=20.0 in /usr/local/lib/python3.10/dist-packages (from matplotlib>=3.0->lifelines) (24.2)\n",
            "Requirement already satisfied: pillow>=6.2.0 in /usr/local/lib/python3.10/dist-packages (from matplotlib>=3.0->lifelines) (11.0.0)\n",
            "Requirement already satisfied: pyparsing>=2.3.1 in /usr/local/lib/python3.10/dist-packages (from matplotlib>=3.0->lifelines) (3.2.0)\n",
            "Requirement already satisfied: python-dateutil>=2.7 in /usr/local/lib/python3.10/dist-packages (from matplotlib>=3.0->lifelines) (2.8.2)\n",
            "Requirement already satisfied: pytz>=2020.1 in /usr/local/lib/python3.10/dist-packages (from pandas>=2.1->lifelines) (2024.2)\n",
            "Requirement already satisfied: tzdata>=2022.7 in /usr/local/lib/python3.10/dist-packages (from pandas>=2.1->lifelines) (2024.2)\n",
            "Requirement already satisfied: six>=1.5 in /usr/local/lib/python3.10/dist-packages (from python-dateutil>=2.7->matplotlib>=3.0->lifelines) (1.17.0)\n"
          ]
        }
      ],
      "source": [
        "# !pip install lifelines\n",
        "import lifelines\n",
        "import numpy as np\n",
        "import matplotlib.pyplot as plt # version > 3.0\n",
        "import pandas as pd\n",
        "\n",
        "# plt.style.use('seaborn')"
      ]
    },
    {
      "cell_type": "markdown",
      "metadata": {
        "id": "yHyVoEH-WW8i"
      },
      "source": [
        "**Contents**\n",
        "* [Overview](#Overview)\n",
        "    * Censorship in Data\n",
        "    * Hazard Function - the dangerous bathtub\n",
        "    * Survival Function (aka reliability function)\n",
        "    * Ways to estimate/model survival analysis - terms to be aware of\n",
        "    * `lifelines` package\n",
        "* [Example 1: Leukemia](#Example-1:-Leukemia)\n",
        "    * Kaplan-Meier survival estimate\n",
        "    * Cox Proportional Hazards Model -- Survival Regression\n",
        "* [Example 2: Recidivism](#Example-2:-Recidivism)\n",
        "* [Example 3: Heart Attack Survival](#Example-3:-Heart-Attack-Survival])\n",
        "* [Example 4: Customer Churn](#Example-4:-Customer-Churn)\n",
        "\n",
        "**Resources**\n",
        "- [Wikipedia on Survival analysis](https://en.wikipedia.org/wiki/Survival_analysis)\n",
        "- [Wikipedia on Survival functions](https://en.wikipedia.org/wiki/Survival_function)\n",
        "- [Summary of survival analysis by a biostatistician](http://sphweb.bumc.bu.edu/otlt/MPH-Modules/BS/BS704_Survival/BS704_Survival_print.html)\n",
        "- [Another medical statistics article on survival analysis](https://www.sciencedirect.com/science/article/pii/S1756231716300639)\n",
        "- [Survival analysis using R lecture slides](http://www.stat.columbia.edu/~madigan/W2025/notes/survival.pdf)\n",
        "\n",
        "![My normal approach is useless here, too.](https://imgs.xkcd.com/comics/probability.png)\n",
        "\n",
        "<center>source: <a href=\"https://xkcd.com/881/\">xkcd</a></center>"
      ]
    },
    {
      "cell_type": "markdown",
      "metadata": {
        "id": "siKMJRgRWW8j"
      },
      "source": [
        "#  Overview\n",
        "Survival analysis (AKA  **time-to-event analysis** or **reliability analysis** in engineering) is to analyze the effect of different risk factors and use them to predict the duration of time between one event (\"birth\") and another (\"death\"). It was first developed by actuaries and medical professionals to predict (as its name implies) how long individuals would survive. However, it has expanded into include many different applications.\n",
        "\n",
        "In the general sense, it can be thought of as a way to model anything with a finite duration - retention, churn, completion, etc. The culmination of this duration may have a \"good\" or \"bad\" (or \"neutral\") connotation, depending on the situation. However old habits die hard, so most often it is called survival analysis and the following definitions are still commonly used:\n",
        "\n",
        "* birth: the event that marks the beginning of the time period for observation\n",
        "* death: the event of interest, which then marks the end of the observation period for an individual\n",
        "\n",
        "Example | Birth Event | Death Event\n",
        "---|---|---\n",
        "Customer churn | customer subscribes to a service| customer leaves the service\n",
        "Employee retention | employee is hired | employee quits\n",
        "Engineering, part reliability | part is put in use | part fails\n",
        "Program completion | student begins PhD program | student earns PhD\n",
        "Response time | 911 call is made | police arrive\n",
        "\n",
        "#### So... if all we're predicting here is a length of time between two events, why can't we just use regular old Linear Regression?\n",
        "Well... if you have all the data, go for it. In some situations it may be reasonably effective.\n",
        "\n",
        "#### But, data for survival times are often highly skewed and, more importantly, we don't always get a chance to observe the \"death\" event. The current time or other factors interfere with our ability to observe the time of the event of interest. These observations are said to be _censored_.\n",
        "\n",
        "Additionally, the occurrence or non-occurrence of an event is binary - so, while the time is continuous, the event itself is in some ways similar to a binary event in logistic regression."
      ]
    },
    {
      "cell_type": "markdown",
      "metadata": {
        "id": "DSUEMY8usgwJ"
      },
      "source": [
        "## Censorship in Data\n",
        "\n",
        "Suppose a new cancer treatment is developed. Researchers select 50 individuals for the study to undergo treatment and participate in post-treatment obsesrvation.\n",
        "\n",
        "Example | Birth Event | Death Event\n",
        "---|---|---\n",
        "Cancer survival | Participant begins trial | Participant dies due to cancer or complications of cancer\n",
        "\n",
        "During the study:\n",
        "1. Some participants die during the course of the study--triggering their death event\n",
        "2. Some participants drop out or the researchers otherwise lose contact with them. The researchers have their data up until the time they dropped out, but they don't have a death event to record\n",
        "3. Some participants are still alive at the end of the observation period. So again, researchers have their data up until some point, but there is no death event to record\n",
        "\n",
        "We only know the interval between the \"birth\" event and the \"death\" event for participants in category 1. All others we only know that they survived _up to_ a certain point.\n",
        "\n",
        "### Dealing with Censored Data\n",
        "\n",
        "Without survival analysis, we could deal with censored data in two ways:\n",
        "* We could just treat the end of the observation period as the time of the death event\n",
        "* (Even worse) We could drop the censored data using the rationale that we have \"incomplete data\" for those observations\n",
        "\n",
        "But... both of these will underestimate survival rates for the purpose of the study. We **know** that all those individuals \"survived\" the \"death event\" past a certain point.\n",
        "\n",
        "Luckily, in the 1980s a pair of smarty pants named David (main author Cox and coauthor Oakes) did the hard math work to make it possible to incorporate additional features as predictive measures to survival time probabilities. (Fun fact, the one named Cox also came up with logistic regression with non-David coauthor, Joyce Snell.)"
      ]
    },
    {
      "cell_type": "markdown",
      "metadata": {
        "id": "a-K41hIhWW8k"
      },
      "source": [
        "## Hazard Function - the dangerous bathtub\n",
        "\n",
        "The hazard function represents the *instantaneous* likelihood of failure. It can be treated as a PDF (probability density function), and with real-world data comes in three typical shapes.\n",
        "\n",
        "![Different hazard functions](https://upload.wikimedia.org/wikipedia/commons/2/25/Compsyseng17_04.jpg)\n",
        "\n",
        "Increasing and decreasing failure rate are fairly intuitive - the \"bathtub\" shaped is perhaps the most surprising, but actually models many real-world situations. In fact, life expectancy in general, and most threats to it, assume this shape.\n",
        "\n",
        "What the \"bathtub\" means is that - threats are highest at youth (e.g. infant mortality), but then decrease and stabilize at maturity, only to eventually re-emerge in old age. Many diseases primarily threaten children and elderly, and middle aged people are also more robust to physical trauma.\n",
        "\n",
        "The \"bathtub\" is also suitable for many non-human situations - often with reliability analysis, mechanical parts either fail early (due to manufacturing defects), or they survive and have a relatively long lifetime to eventually fail out of age and use."
      ]
    },
    {
      "cell_type": "markdown",
      "metadata": {
        "id": "dV_ihMWCWW8l"
      },
      "source": [
        "## Survival Function (aka reliability function)\n",
        "\n",
        "It's just a (backwards) CDF!\n",
        "\n",
        "Since the hazard function can be treated as a probability density function, it makes sense to think about the corresponding cumulative distribution function (CDF). But because we're modeling time to failure, it's actually more interesting to look at the CDF backwards - this is called the complementary cumulative distribution function.\n",
        "\n",
        "In survival analysis there's a special name for it - the survival function - and it gives the probability that the object being studied will survive beyond a given time.\n",
        "\n",
        "![4 survival functions](https://upload.wikimedia.org/wikipedia/commons/e/e0/Four_survival_functions.svg)\n",
        "\n",
        "As you can see they all start at 1 for time 0 - at the beginning, all things are alive. Then they all move down over time to eventually approach and converge to 0. The different shapes reflect the average/expected retention of a population subject to this function over time, and as such this is a particularly useful visualization when modeling overall retention/churn situations."
      ]
    },
    {
      "cell_type": "markdown",
      "metadata": {
        "id": "VtrMi2Y-WW8l"
      },
      "source": [
        "## Ways to estimate/model survival analysis - terms to be aware of\n",
        "Key Components Necessary for these models - duration, and whether observation is censored.\n",
        "\n",
        "- Kaplan Meier Estimator\n",
        "- Nelson-Aalen Estimator\n",
        "- Proportional Hazards (Cox Model, integrates covariates)\n",
        "- Additive Hazards Model (Aalen's Additive Model, when covariates are time-dependent)\n",
        "\n",
        "As with most statistics, these are all refinements of the general principles, with the math to back them up. Software packages will tend to select reasonable defaults, and allow you to use parameters to tune or select things. The math for these gets varied and deep - but feel free to [dive in](https://en.wikipedia.org/wiki/Survival_analysis) if you're curious!"
      ]
    },
    {
      "cell_type": "markdown",
      "metadata": {
        "id": "f859UfLVWW8m"
      },
      "source": [
        "## `lifelines` library\n",
        "It wasn't until 2014 that some other smart people made an implementation of survival analysis in Python called `lifelines`.\n",
        "It is built over Pandas and follows the same conventions for usage as scikit-learn.\n",
        "\n",
        "_Additional note: scikit pushed out a survival analysis implementation last year (2018) named scikit-survival that is imported by the name `sksurv`. It's super new so it may/may not have a bunch of bugs... but if you're interested you can check it out in the future. (For comparison, scikit originally came out in 2007 and Pandas came out in 2008)._\n",
        "\n",
        "### You can use any Pandas DataFrame with lifelines, but you must  have features for:\n",
        "* a duration of time for the observation\n",
        "* a binary column regarding censorship (`1` if the death event was observed, `0` if the death event was not observed)\n",
        "\n",
        "Sometimes, you will have to engineer these features. How might you go about that? What information would you need?"
      ]
    },
    {
      "cell_type": "markdown",
      "metadata": {
        "id": "hq_6ZIhrWW8m"
      },
      "source": [
        "# Example 1: Leukemia\n",
        "\n",
        "`lifelines` comes with some datasets to get you started playing around with it.\n",
        "\n",
        "Most of the datasets are cleaned-up versions of real datasets. Here we will use their Leukemia dataset comparing 2 different treatments taken from http://web1.sph.emory.edu/dkleinb/allDatasets/surv2datasets/anderson.dat"
      ]
    },
    {
      "cell_type": "code",
      "execution_count": 11,
      "metadata": {
        "colab": {
          "base_uri": "https://localhost:8080/",
          "height": 1000
        },
        "id": "d51G4sPqsgww",
        "outputId": "1815ebbe-68c5-48c6-9347-fbb52387d527"
      },
      "outputs": [
        {
          "output_type": "execute_result",
          "data": {
            "text/plain": [
              "     t  status  sex  logWBC  Rx\n",
              "0   35       0    1    1.45   0\n",
              "1   34       0    1    1.47   0\n",
              "2   32       0    1    2.20   0\n",
              "3   32       0    1    2.53   0\n",
              "4   25       0    1    1.78   0\n",
              "5   23       1    1    2.57   0\n",
              "6   22       1    1    2.32   0\n",
              "7   20       0    1    2.01   0\n",
              "8   19       0    0    2.05   0\n",
              "9   17       0    0    2.16   0\n",
              "10  16       1    1    3.60   0\n",
              "11  13       1    0    2.88   0\n",
              "12  11       0    0    2.60   0\n",
              "13  10       0    0    2.70   0\n",
              "14  10       1    0    2.96   0\n",
              "15   9       0    0    2.80   0\n",
              "16   7       1    0    4.43   0\n",
              "17   6       0    0    3.20   0\n",
              "18   6       1    0    2.31   0\n",
              "19   6       1    1    4.06   0\n",
              "20   6       1    0    3.28   0\n",
              "21  23       1    1    1.97   1\n",
              "22  22       1    0    2.73   1\n",
              "23  17       1    0    2.95   1\n",
              "24  15       1    0    2.30   1\n",
              "25  12       1    0    1.50   1\n",
              "26  12       1    0    3.06   1\n",
              "27  11       1    0    3.49   1\n",
              "28  11       1    0    2.12   1\n",
              "29   8       1    0    3.52   1\n",
              "30   8       1    0    3.05   1\n",
              "31   8       1    0    2.32   1\n",
              "32   8       1    1    3.26   1\n",
              "33   5       1    1    3.49   1\n",
              "34   5       1    0    3.97   1\n",
              "35   4       1    1    4.36   1\n",
              "36   4       1    1    2.42   1\n",
              "37   3       1    1    4.01   1\n",
              "38   2       1    1    4.91   1\n",
              "39   2       1    1    4.48   1\n",
              "40   1       1    1    2.80   1\n",
              "41   1       1    1    5.00   1"
            ],
            "text/html": [
              "\n",
              "  <div id=\"df-13153784-c0d4-4256-8dab-75dad12b762f\" class=\"colab-df-container\">\n",
              "    <div>\n",
              "<style scoped>\n",
              "    .dataframe tbody tr th:only-of-type {\n",
              "        vertical-align: middle;\n",
              "    }\n",
              "\n",
              "    .dataframe tbody tr th {\n",
              "        vertical-align: top;\n",
              "    }\n",
              "\n",
              "    .dataframe thead th {\n",
              "        text-align: right;\n",
              "    }\n",
              "</style>\n",
              "<table border=\"1\" class=\"dataframe\">\n",
              "  <thead>\n",
              "    <tr style=\"text-align: right;\">\n",
              "      <th></th>\n",
              "      <th>t</th>\n",
              "      <th>status</th>\n",
              "      <th>sex</th>\n",
              "      <th>logWBC</th>\n",
              "      <th>Rx</th>\n",
              "    </tr>\n",
              "  </thead>\n",
              "  <tbody>\n",
              "    <tr>\n",
              "      <th>0</th>\n",
              "      <td>35</td>\n",
              "      <td>0</td>\n",
              "      <td>1</td>\n",
              "      <td>1.45</td>\n",
              "      <td>0</td>\n",
              "    </tr>\n",
              "    <tr>\n",
              "      <th>1</th>\n",
              "      <td>34</td>\n",
              "      <td>0</td>\n",
              "      <td>1</td>\n",
              "      <td>1.47</td>\n",
              "      <td>0</td>\n",
              "    </tr>\n",
              "    <tr>\n",
              "      <th>2</th>\n",
              "      <td>32</td>\n",
              "      <td>0</td>\n",
              "      <td>1</td>\n",
              "      <td>2.20</td>\n",
              "      <td>0</td>\n",
              "    </tr>\n",
              "    <tr>\n",
              "      <th>3</th>\n",
              "      <td>32</td>\n",
              "      <td>0</td>\n",
              "      <td>1</td>\n",
              "      <td>2.53</td>\n",
              "      <td>0</td>\n",
              "    </tr>\n",
              "    <tr>\n",
              "      <th>4</th>\n",
              "      <td>25</td>\n",
              "      <td>0</td>\n",
              "      <td>1</td>\n",
              "      <td>1.78</td>\n",
              "      <td>0</td>\n",
              "    </tr>\n",
              "    <tr>\n",
              "      <th>5</th>\n",
              "      <td>23</td>\n",
              "      <td>1</td>\n",
              "      <td>1</td>\n",
              "      <td>2.57</td>\n",
              "      <td>0</td>\n",
              "    </tr>\n",
              "    <tr>\n",
              "      <th>6</th>\n",
              "      <td>22</td>\n",
              "      <td>1</td>\n",
              "      <td>1</td>\n",
              "      <td>2.32</td>\n",
              "      <td>0</td>\n",
              "    </tr>\n",
              "    <tr>\n",
              "      <th>7</th>\n",
              "      <td>20</td>\n",
              "      <td>0</td>\n",
              "      <td>1</td>\n",
              "      <td>2.01</td>\n",
              "      <td>0</td>\n",
              "    </tr>\n",
              "    <tr>\n",
              "      <th>8</th>\n",
              "      <td>19</td>\n",
              "      <td>0</td>\n",
              "      <td>0</td>\n",
              "      <td>2.05</td>\n",
              "      <td>0</td>\n",
              "    </tr>\n",
              "    <tr>\n",
              "      <th>9</th>\n",
              "      <td>17</td>\n",
              "      <td>0</td>\n",
              "      <td>0</td>\n",
              "      <td>2.16</td>\n",
              "      <td>0</td>\n",
              "    </tr>\n",
              "    <tr>\n",
              "      <th>10</th>\n",
              "      <td>16</td>\n",
              "      <td>1</td>\n",
              "      <td>1</td>\n",
              "      <td>3.60</td>\n",
              "      <td>0</td>\n",
              "    </tr>\n",
              "    <tr>\n",
              "      <th>11</th>\n",
              "      <td>13</td>\n",
              "      <td>1</td>\n",
              "      <td>0</td>\n",
              "      <td>2.88</td>\n",
              "      <td>0</td>\n",
              "    </tr>\n",
              "    <tr>\n",
              "      <th>12</th>\n",
              "      <td>11</td>\n",
              "      <td>0</td>\n",
              "      <td>0</td>\n",
              "      <td>2.60</td>\n",
              "      <td>0</td>\n",
              "    </tr>\n",
              "    <tr>\n",
              "      <th>13</th>\n",
              "      <td>10</td>\n",
              "      <td>0</td>\n",
              "      <td>0</td>\n",
              "      <td>2.70</td>\n",
              "      <td>0</td>\n",
              "    </tr>\n",
              "    <tr>\n",
              "      <th>14</th>\n",
              "      <td>10</td>\n",
              "      <td>1</td>\n",
              "      <td>0</td>\n",
              "      <td>2.96</td>\n",
              "      <td>0</td>\n",
              "    </tr>\n",
              "    <tr>\n",
              "      <th>15</th>\n",
              "      <td>9</td>\n",
              "      <td>0</td>\n",
              "      <td>0</td>\n",
              "      <td>2.80</td>\n",
              "      <td>0</td>\n",
              "    </tr>\n",
              "    <tr>\n",
              "      <th>16</th>\n",
              "      <td>7</td>\n",
              "      <td>1</td>\n",
              "      <td>0</td>\n",
              "      <td>4.43</td>\n",
              "      <td>0</td>\n",
              "    </tr>\n",
              "    <tr>\n",
              "      <th>17</th>\n",
              "      <td>6</td>\n",
              "      <td>0</td>\n",
              "      <td>0</td>\n",
              "      <td>3.20</td>\n",
              "      <td>0</td>\n",
              "    </tr>\n",
              "    <tr>\n",
              "      <th>18</th>\n",
              "      <td>6</td>\n",
              "      <td>1</td>\n",
              "      <td>0</td>\n",
              "      <td>2.31</td>\n",
              "      <td>0</td>\n",
              "    </tr>\n",
              "    <tr>\n",
              "      <th>19</th>\n",
              "      <td>6</td>\n",
              "      <td>1</td>\n",
              "      <td>1</td>\n",
              "      <td>4.06</td>\n",
              "      <td>0</td>\n",
              "    </tr>\n",
              "    <tr>\n",
              "      <th>20</th>\n",
              "      <td>6</td>\n",
              "      <td>1</td>\n",
              "      <td>0</td>\n",
              "      <td>3.28</td>\n",
              "      <td>0</td>\n",
              "    </tr>\n",
              "    <tr>\n",
              "      <th>21</th>\n",
              "      <td>23</td>\n",
              "      <td>1</td>\n",
              "      <td>1</td>\n",
              "      <td>1.97</td>\n",
              "      <td>1</td>\n",
              "    </tr>\n",
              "    <tr>\n",
              "      <th>22</th>\n",
              "      <td>22</td>\n",
              "      <td>1</td>\n",
              "      <td>0</td>\n",
              "      <td>2.73</td>\n",
              "      <td>1</td>\n",
              "    </tr>\n",
              "    <tr>\n",
              "      <th>23</th>\n",
              "      <td>17</td>\n",
              "      <td>1</td>\n",
              "      <td>0</td>\n",
              "      <td>2.95</td>\n",
              "      <td>1</td>\n",
              "    </tr>\n",
              "    <tr>\n",
              "      <th>24</th>\n",
              "      <td>15</td>\n",
              "      <td>1</td>\n",
              "      <td>0</td>\n",
              "      <td>2.30</td>\n",
              "      <td>1</td>\n",
              "    </tr>\n",
              "    <tr>\n",
              "      <th>25</th>\n",
              "      <td>12</td>\n",
              "      <td>1</td>\n",
              "      <td>0</td>\n",
              "      <td>1.50</td>\n",
              "      <td>1</td>\n",
              "    </tr>\n",
              "    <tr>\n",
              "      <th>26</th>\n",
              "      <td>12</td>\n",
              "      <td>1</td>\n",
              "      <td>0</td>\n",
              "      <td>3.06</td>\n",
              "      <td>1</td>\n",
              "    </tr>\n",
              "    <tr>\n",
              "      <th>27</th>\n",
              "      <td>11</td>\n",
              "      <td>1</td>\n",
              "      <td>0</td>\n",
              "      <td>3.49</td>\n",
              "      <td>1</td>\n",
              "    </tr>\n",
              "    <tr>\n",
              "      <th>28</th>\n",
              "      <td>11</td>\n",
              "      <td>1</td>\n",
              "      <td>0</td>\n",
              "      <td>2.12</td>\n",
              "      <td>1</td>\n",
              "    </tr>\n",
              "    <tr>\n",
              "      <th>29</th>\n",
              "      <td>8</td>\n",
              "      <td>1</td>\n",
              "      <td>0</td>\n",
              "      <td>3.52</td>\n",
              "      <td>1</td>\n",
              "    </tr>\n",
              "    <tr>\n",
              "      <th>30</th>\n",
              "      <td>8</td>\n",
              "      <td>1</td>\n",
              "      <td>0</td>\n",
              "      <td>3.05</td>\n",
              "      <td>1</td>\n",
              "    </tr>\n",
              "    <tr>\n",
              "      <th>31</th>\n",
              "      <td>8</td>\n",
              "      <td>1</td>\n",
              "      <td>0</td>\n",
              "      <td>2.32</td>\n",
              "      <td>1</td>\n",
              "    </tr>\n",
              "    <tr>\n",
              "      <th>32</th>\n",
              "      <td>8</td>\n",
              "      <td>1</td>\n",
              "      <td>1</td>\n",
              "      <td>3.26</td>\n",
              "      <td>1</td>\n",
              "    </tr>\n",
              "    <tr>\n",
              "      <th>33</th>\n",
              "      <td>5</td>\n",
              "      <td>1</td>\n",
              "      <td>1</td>\n",
              "      <td>3.49</td>\n",
              "      <td>1</td>\n",
              "    </tr>\n",
              "    <tr>\n",
              "      <th>34</th>\n",
              "      <td>5</td>\n",
              "      <td>1</td>\n",
              "      <td>0</td>\n",
              "      <td>3.97</td>\n",
              "      <td>1</td>\n",
              "    </tr>\n",
              "    <tr>\n",
              "      <th>35</th>\n",
              "      <td>4</td>\n",
              "      <td>1</td>\n",
              "      <td>1</td>\n",
              "      <td>4.36</td>\n",
              "      <td>1</td>\n",
              "    </tr>\n",
              "    <tr>\n",
              "      <th>36</th>\n",
              "      <td>4</td>\n",
              "      <td>1</td>\n",
              "      <td>1</td>\n",
              "      <td>2.42</td>\n",
              "      <td>1</td>\n",
              "    </tr>\n",
              "    <tr>\n",
              "      <th>37</th>\n",
              "      <td>3</td>\n",
              "      <td>1</td>\n",
              "      <td>1</td>\n",
              "      <td>4.01</td>\n",
              "      <td>1</td>\n",
              "    </tr>\n",
              "    <tr>\n",
              "      <th>38</th>\n",
              "      <td>2</td>\n",
              "      <td>1</td>\n",
              "      <td>1</td>\n",
              "      <td>4.91</td>\n",
              "      <td>1</td>\n",
              "    </tr>\n",
              "    <tr>\n",
              "      <th>39</th>\n",
              "      <td>2</td>\n",
              "      <td>1</td>\n",
              "      <td>1</td>\n",
              "      <td>4.48</td>\n",
              "      <td>1</td>\n",
              "    </tr>\n",
              "    <tr>\n",
              "      <th>40</th>\n",
              "      <td>1</td>\n",
              "      <td>1</td>\n",
              "      <td>1</td>\n",
              "      <td>2.80</td>\n",
              "      <td>1</td>\n",
              "    </tr>\n",
              "    <tr>\n",
              "      <th>41</th>\n",
              "      <td>1</td>\n",
              "      <td>1</td>\n",
              "      <td>1</td>\n",
              "      <td>5.00</td>\n",
              "      <td>1</td>\n",
              "    </tr>\n",
              "  </tbody>\n",
              "</table>\n",
              "</div>\n",
              "    <div class=\"colab-df-buttons\">\n",
              "\n",
              "  <div class=\"colab-df-container\">\n",
              "    <button class=\"colab-df-convert\" onclick=\"convertToInteractive('df-13153784-c0d4-4256-8dab-75dad12b762f')\"\n",
              "            title=\"Convert this dataframe to an interactive table.\"\n",
              "            style=\"display:none;\">\n",
              "\n",
              "  <svg xmlns=\"http://www.w3.org/2000/svg\" height=\"24px\" viewBox=\"0 -960 960 960\">\n",
              "    <path d=\"M120-120v-720h720v720H120Zm60-500h600v-160H180v160Zm220 220h160v-160H400v160Zm0 220h160v-160H400v160ZM180-400h160v-160H180v160Zm440 0h160v-160H620v160ZM180-180h160v-160H180v160Zm440 0h160v-160H620v160Z\"/>\n",
              "  </svg>\n",
              "    </button>\n",
              "\n",
              "  <style>\n",
              "    .colab-df-container {\n",
              "      display:flex;\n",
              "      gap: 12px;\n",
              "    }\n",
              "\n",
              "    .colab-df-convert {\n",
              "      background-color: #E8F0FE;\n",
              "      border: none;\n",
              "      border-radius: 50%;\n",
              "      cursor: pointer;\n",
              "      display: none;\n",
              "      fill: #1967D2;\n",
              "      height: 32px;\n",
              "      padding: 0 0 0 0;\n",
              "      width: 32px;\n",
              "    }\n",
              "\n",
              "    .colab-df-convert:hover {\n",
              "      background-color: #E2EBFA;\n",
              "      box-shadow: 0px 1px 2px rgba(60, 64, 67, 0.3), 0px 1px 3px 1px rgba(60, 64, 67, 0.15);\n",
              "      fill: #174EA6;\n",
              "    }\n",
              "\n",
              "    .colab-df-buttons div {\n",
              "      margin-bottom: 4px;\n",
              "    }\n",
              "\n",
              "    [theme=dark] .colab-df-convert {\n",
              "      background-color: #3B4455;\n",
              "      fill: #D2E3FC;\n",
              "    }\n",
              "\n",
              "    [theme=dark] .colab-df-convert:hover {\n",
              "      background-color: #434B5C;\n",
              "      box-shadow: 0px 1px 3px 1px rgba(0, 0, 0, 0.15);\n",
              "      filter: drop-shadow(0px 1px 2px rgba(0, 0, 0, 0.3));\n",
              "      fill: #FFFFFF;\n",
              "    }\n",
              "  </style>\n",
              "\n",
              "    <script>\n",
              "      const buttonEl =\n",
              "        document.querySelector('#df-13153784-c0d4-4256-8dab-75dad12b762f button.colab-df-convert');\n",
              "      buttonEl.style.display =\n",
              "        google.colab.kernel.accessAllowed ? 'block' : 'none';\n",
              "\n",
              "      async function convertToInteractive(key) {\n",
              "        const element = document.querySelector('#df-13153784-c0d4-4256-8dab-75dad12b762f');\n",
              "        const dataTable =\n",
              "          await google.colab.kernel.invokeFunction('convertToInteractive',\n",
              "                                                    [key], {});\n",
              "        if (!dataTable) return;\n",
              "\n",
              "        const docLinkHtml = 'Like what you see? Visit the ' +\n",
              "          '<a target=\"_blank\" href=https://colab.research.google.com/notebooks/data_table.ipynb>data table notebook</a>'\n",
              "          + ' to learn more about interactive tables.';\n",
              "        element.innerHTML = '';\n",
              "        dataTable['output_type'] = 'display_data';\n",
              "        await google.colab.output.renderOutput(dataTable, element);\n",
              "        const docLink = document.createElement('div');\n",
              "        docLink.innerHTML = docLinkHtml;\n",
              "        element.appendChild(docLink);\n",
              "      }\n",
              "    </script>\n",
              "  </div>\n",
              "\n",
              "\n",
              "<div id=\"df-b71bc0a3-3346-4b67-a13b-84e968b8bd57\">\n",
              "  <button class=\"colab-df-quickchart\" onclick=\"quickchart('df-b71bc0a3-3346-4b67-a13b-84e968b8bd57')\"\n",
              "            title=\"Suggest charts\"\n",
              "            style=\"display:none;\">\n",
              "\n",
              "<svg xmlns=\"http://www.w3.org/2000/svg\" height=\"24px\"viewBox=\"0 0 24 24\"\n",
              "     width=\"24px\">\n",
              "    <g>\n",
              "        <path d=\"M19 3H5c-1.1 0-2 .9-2 2v14c0 1.1.9 2 2 2h14c1.1 0 2-.9 2-2V5c0-1.1-.9-2-2-2zM9 17H7v-7h2v7zm4 0h-2V7h2v10zm4 0h-2v-4h2v4z\"/>\n",
              "    </g>\n",
              "</svg>\n",
              "  </button>\n",
              "\n",
              "<style>\n",
              "  .colab-df-quickchart {\n",
              "      --bg-color: #E8F0FE;\n",
              "      --fill-color: #1967D2;\n",
              "      --hover-bg-color: #E2EBFA;\n",
              "      --hover-fill-color: #174EA6;\n",
              "      --disabled-fill-color: #AAA;\n",
              "      --disabled-bg-color: #DDD;\n",
              "  }\n",
              "\n",
              "  [theme=dark] .colab-df-quickchart {\n",
              "      --bg-color: #3B4455;\n",
              "      --fill-color: #D2E3FC;\n",
              "      --hover-bg-color: #434B5C;\n",
              "      --hover-fill-color: #FFFFFF;\n",
              "      --disabled-bg-color: #3B4455;\n",
              "      --disabled-fill-color: #666;\n",
              "  }\n",
              "\n",
              "  .colab-df-quickchart {\n",
              "    background-color: var(--bg-color);\n",
              "    border: none;\n",
              "    border-radius: 50%;\n",
              "    cursor: pointer;\n",
              "    display: none;\n",
              "    fill: var(--fill-color);\n",
              "    height: 32px;\n",
              "    padding: 0;\n",
              "    width: 32px;\n",
              "  }\n",
              "\n",
              "  .colab-df-quickchart:hover {\n",
              "    background-color: var(--hover-bg-color);\n",
              "    box-shadow: 0 1px 2px rgba(60, 64, 67, 0.3), 0 1px 3px 1px rgba(60, 64, 67, 0.15);\n",
              "    fill: var(--button-hover-fill-color);\n",
              "  }\n",
              "\n",
              "  .colab-df-quickchart-complete:disabled,\n",
              "  .colab-df-quickchart-complete:disabled:hover {\n",
              "    background-color: var(--disabled-bg-color);\n",
              "    fill: var(--disabled-fill-color);\n",
              "    box-shadow: none;\n",
              "  }\n",
              "\n",
              "  .colab-df-spinner {\n",
              "    border: 2px solid var(--fill-color);\n",
              "    border-color: transparent;\n",
              "    border-bottom-color: var(--fill-color);\n",
              "    animation:\n",
              "      spin 1s steps(1) infinite;\n",
              "  }\n",
              "\n",
              "  @keyframes spin {\n",
              "    0% {\n",
              "      border-color: transparent;\n",
              "      border-bottom-color: var(--fill-color);\n",
              "      border-left-color: var(--fill-color);\n",
              "    }\n",
              "    20% {\n",
              "      border-color: transparent;\n",
              "      border-left-color: var(--fill-color);\n",
              "      border-top-color: var(--fill-color);\n",
              "    }\n",
              "    30% {\n",
              "      border-color: transparent;\n",
              "      border-left-color: var(--fill-color);\n",
              "      border-top-color: var(--fill-color);\n",
              "      border-right-color: var(--fill-color);\n",
              "    }\n",
              "    40% {\n",
              "      border-color: transparent;\n",
              "      border-right-color: var(--fill-color);\n",
              "      border-top-color: var(--fill-color);\n",
              "    }\n",
              "    60% {\n",
              "      border-color: transparent;\n",
              "      border-right-color: var(--fill-color);\n",
              "    }\n",
              "    80% {\n",
              "      border-color: transparent;\n",
              "      border-right-color: var(--fill-color);\n",
              "      border-bottom-color: var(--fill-color);\n",
              "    }\n",
              "    90% {\n",
              "      border-color: transparent;\n",
              "      border-bottom-color: var(--fill-color);\n",
              "    }\n",
              "  }\n",
              "</style>\n",
              "\n",
              "  <script>\n",
              "    async function quickchart(key) {\n",
              "      const quickchartButtonEl =\n",
              "        document.querySelector('#' + key + ' button');\n",
              "      quickchartButtonEl.disabled = true;  // To prevent multiple clicks.\n",
              "      quickchartButtonEl.classList.add('colab-df-spinner');\n",
              "      try {\n",
              "        const charts = await google.colab.kernel.invokeFunction(\n",
              "            'suggestCharts', [key], {});\n",
              "      } catch (error) {\n",
              "        console.error('Error during call to suggestCharts:', error);\n",
              "      }\n",
              "      quickchartButtonEl.classList.remove('colab-df-spinner');\n",
              "      quickchartButtonEl.classList.add('colab-df-quickchart-complete');\n",
              "    }\n",
              "    (() => {\n",
              "      let quickchartButtonEl =\n",
              "        document.querySelector('#df-b71bc0a3-3346-4b67-a13b-84e968b8bd57 button');\n",
              "      quickchartButtonEl.style.display =\n",
              "        google.colab.kernel.accessAllowed ? 'block' : 'none';\n",
              "    })();\n",
              "  </script>\n",
              "</div>\n",
              "\n",
              "    </div>\n",
              "  </div>\n"
            ],
            "application/vnd.google.colaboratory.intrinsic+json": {
              "type": "dataframe",
              "variable_name": "leukemia",
              "summary": "{\n  \"name\": \"leukemia\",\n  \"rows\": 42,\n  \"fields\": [\n    {\n      \"column\": \"t\",\n      \"properties\": {\n        \"dtype\": \"number\",\n        \"std\": 9,\n        \"min\": 1,\n        \"max\": 35,\n        \"num_unique_values\": 24,\n        \"samples\": [\n          17,\n          15,\n          35\n        ],\n        \"semantic_type\": \"\",\n        \"description\": \"\"\n      }\n    },\n    {\n      \"column\": \"status\",\n      \"properties\": {\n        \"dtype\": \"number\",\n        \"std\": 0,\n        \"min\": 0,\n        \"max\": 1,\n        \"num_unique_values\": 2,\n        \"samples\": [\n          1,\n          0\n        ],\n        \"semantic_type\": \"\",\n        \"description\": \"\"\n      }\n    },\n    {\n      \"column\": \"sex\",\n      \"properties\": {\n        \"dtype\": \"number\",\n        \"std\": 0,\n        \"min\": 0,\n        \"max\": 1,\n        \"num_unique_values\": 2,\n        \"samples\": [\n          0,\n          1\n        ],\n        \"semantic_type\": \"\",\n        \"description\": \"\"\n      }\n    },\n    {\n      \"column\": \"logWBC\",\n      \"properties\": {\n        \"dtype\": \"number\",\n        \"std\": 0.9175218163026999,\n        \"min\": 1.45,\n        \"max\": 5.0,\n        \"num_unique_values\": 39,\n        \"samples\": [\n          4.36,\n          4.91\n        ],\n        \"semantic_type\": \"\",\n        \"description\": \"\"\n      }\n    },\n    {\n      \"column\": \"Rx\",\n      \"properties\": {\n        \"dtype\": \"number\",\n        \"std\": 0,\n        \"min\": 0,\n        \"max\": 1,\n        \"num_unique_values\": 2,\n        \"samples\": [\n          1,\n          0\n        ],\n        \"semantic_type\": \"\",\n        \"description\": \"\"\n      }\n    }\n  ]\n}"
            }
          },
          "metadata": {},
          "execution_count": 11
        }
      ],
      "source": [
        "from lifelines.datasets import load_leukemia\n",
        "\n",
        "leukemia = load_leukemia()\n",
        "\n",
        "leukemia.head(50)"
      ]
    },
    {
      "cell_type": "code",
      "execution_count": 5,
      "metadata": {
        "colab": {
          "base_uri": "https://localhost:8080/"
        },
        "id": "DQ936c5tsgw-",
        "outputId": "1f5767ac-f4a2-46f0-b1fb-6f733fc94923"
      },
      "outputs": [
        {
          "output_type": "stream",
          "name": "stdout",
          "text": [
            "<class 'pandas.core.frame.DataFrame'>\n",
            "RangeIndex: 42 entries, 0 to 41\n",
            "Data columns (total 5 columns):\n",
            " #   Column  Non-Null Count  Dtype  \n",
            "---  ------  --------------  -----  \n",
            " 0   t       42 non-null     int64  \n",
            " 1   status  42 non-null     int64  \n",
            " 2   sex     42 non-null     int64  \n",
            " 3   logWBC  42 non-null     float64\n",
            " 4   Rx      42 non-null     int64  \n",
            "dtypes: float64(1), int64(4)\n",
            "memory usage: 1.8 KB\n"
          ]
        }
      ],
      "source": [
        "leukemia.info()"
      ]
    },
    {
      "cell_type": "code",
      "execution_count": null,
      "metadata": {
        "colab": {
          "base_uri": "https://localhost:8080/",
          "height": 300
        },
        "id": "MDvA8Z9rsgxL",
        "outputId": "0ce5b40c-0a8c-4508-990f-25ad0d0a1810"
      },
      "outputs": [
        {
          "data": {
            "text/html": [
              "<div>\n",
              "<style scoped>\n",
              "    .dataframe tbody tr th:only-of-type {\n",
              "        vertical-align: middle;\n",
              "    }\n",
              "\n",
              "    .dataframe tbody tr th {\n",
              "        vertical-align: top;\n",
              "    }\n",
              "\n",
              "    .dataframe thead th {\n",
              "        text-align: right;\n",
              "    }\n",
              "</style>\n",
              "<table border=\"1\" class=\"dataframe\">\n",
              "  <thead>\n",
              "    <tr style=\"text-align: right;\">\n",
              "      <th></th>\n",
              "      <th>t</th>\n",
              "      <th>status</th>\n",
              "      <th>sex</th>\n",
              "      <th>logWBC</th>\n",
              "      <th>Rx</th>\n",
              "    </tr>\n",
              "  </thead>\n",
              "  <tbody>\n",
              "    <tr>\n",
              "      <th>count</th>\n",
              "      <td>42.000000</td>\n",
              "      <td>42.000000</td>\n",
              "      <td>42.000000</td>\n",
              "      <td>42.000000</td>\n",
              "      <td>42.000000</td>\n",
              "    </tr>\n",
              "    <tr>\n",
              "      <th>mean</th>\n",
              "      <td>12.880952</td>\n",
              "      <td>0.714286</td>\n",
              "      <td>0.476190</td>\n",
              "      <td>2.930238</td>\n",
              "      <td>0.500000</td>\n",
              "    </tr>\n",
              "    <tr>\n",
              "      <th>std</th>\n",
              "      <td>9.347498</td>\n",
              "      <td>0.457230</td>\n",
              "      <td>0.505487</td>\n",
              "      <td>0.917522</td>\n",
              "      <td>0.506061</td>\n",
              "    </tr>\n",
              "    <tr>\n",
              "      <th>min</th>\n",
              "      <td>1.000000</td>\n",
              "      <td>0.000000</td>\n",
              "      <td>0.000000</td>\n",
              "      <td>1.450000</td>\n",
              "      <td>0.000000</td>\n",
              "    </tr>\n",
              "    <tr>\n",
              "      <th>25%</th>\n",
              "      <td>6.000000</td>\n",
              "      <td>0.000000</td>\n",
              "      <td>0.000000</td>\n",
              "      <td>2.302500</td>\n",
              "      <td>0.000000</td>\n",
              "    </tr>\n",
              "    <tr>\n",
              "      <th>50%</th>\n",
              "      <td>10.500000</td>\n",
              "      <td>1.000000</td>\n",
              "      <td>0.000000</td>\n",
              "      <td>2.800000</td>\n",
              "      <td>0.500000</td>\n",
              "    </tr>\n",
              "    <tr>\n",
              "      <th>75%</th>\n",
              "      <td>18.500000</td>\n",
              "      <td>1.000000</td>\n",
              "      <td>1.000000</td>\n",
              "      <td>3.490000</td>\n",
              "      <td>1.000000</td>\n",
              "    </tr>\n",
              "    <tr>\n",
              "      <th>max</th>\n",
              "      <td>35.000000</td>\n",
              "      <td>1.000000</td>\n",
              "      <td>1.000000</td>\n",
              "      <td>5.000000</td>\n",
              "      <td>1.000000</td>\n",
              "    </tr>\n",
              "  </tbody>\n",
              "</table>\n",
              "</div>"
            ],
            "text/plain": [
              "               t     status        sex     logWBC         Rx\n",
              "count  42.000000  42.000000  42.000000  42.000000  42.000000\n",
              "mean   12.880952   0.714286   0.476190   2.930238   0.500000\n",
              "std     9.347498   0.457230   0.505487   0.917522   0.506061\n",
              "min     1.000000   0.000000   0.000000   1.450000   0.000000\n",
              "25%     6.000000   0.000000   0.000000   2.302500   0.000000\n",
              "50%    10.500000   1.000000   0.000000   2.800000   0.500000\n",
              "75%    18.500000   1.000000   1.000000   3.490000   1.000000\n",
              "max    35.000000   1.000000   1.000000   5.000000   1.000000"
            ]
          },
          "execution_count": 5,
          "metadata": {},
          "output_type": "execute_result"
        }
      ],
      "source": [
        "leukemia.describe()"
      ]
    },
    {
      "cell_type": "code",
      "execution_count": 6,
      "metadata": {
        "colab": {
          "base_uri": "https://localhost:8080/",
          "height": 526
        },
        "id": "tDasOEocsgxQ",
        "outputId": "7576d300-fdd8-4070-a3b0-37683fdf9a80"
      },
      "outputs": [
        {
          "output_type": "stream",
          "name": "stderr",
          "text": [
            "/usr/local/lib/python3.10/dist-packages/lifelines/plotting.py:773: UserWarning: For less visual clutter, you may want to subsample to less than 25 individuals.\n",
            "  warnings.warn(\n"
          ]
        },
        {
          "output_type": "display_data",
          "data": {
            "text/plain": [
              "<Figure size 640x480 with 1 Axes>"
            ],
            "image/png": "[encoded data removed]"
          },
          "metadata": {}
        }
      ],
      "source": [
        "durations = leukemia.t.values\n",
        "events = leukemia.status.values\n",
        "\n",
        "ax = lifelines.plotting.plot_lifetimes(durations=durations,\n",
        "                                       event_observed=events)\n",
        "ax.set_xlim(0, 40)\n",
        "ax.grid(axis='x')\n",
        "ax.set_xlabel(\"Time in Months\")\n",
        "ax.set_title(\"Lifelines for Survival of Leukemia Patients\");\n",
        "plt.plot();"
      ]
    },
    {
      "cell_type": "markdown",
      "metadata": {
        "id": "5oEzZ_aqsgxV"
      },
      "source": [
        "## Kaplan-Meier survival estimate\n",
        "\n",
        "The Kaplan-Meier method estimates survival probability from observed survival times. It results in a step function that changes value only at the time of each event, and confidence intervals can be computed for the survival probabilities.\n",
        "\n",
        "The **KM survival curve**, a plot of KM survival probability against time, provides a useful summary of the data.\n",
        "It can be used to estimate measures such as median survival time.\n",
        "\n",
        "It CANNOT account for risk factors and is NOT regression. It is *non-parametric* (does not involve parameters).\n",
        "\n",
        "However it is a good way to visualize a survival dataset, and can be **useful to compare the effects of a single categorical variable**."
      ]
    },
    {
      "cell_type": "code",
      "execution_count": 9,
      "metadata": {
        "colab": {
          "base_uri": "https://localhost:8080/",
          "height": 628
        },
        "id": "5XoM5PzGsgxX",
        "outputId": "c9f4ea70-25b4-4eec-9c20-32834f1982cc",
        "scrolled": true
      },
      "outputs": [
        {
          "output_type": "error",
          "ename": "AttributeError",
          "evalue": "'KaplanMeierFitter' object has no attribute 'median_'",
          "traceback": [
            "\u001b[0;31m---------------------------------------------------------------------------\u001b[0m",
            "\u001b[0;31mAttributeError\u001b[0m                            Traceback (most recent call last)",
            "\u001b[0;32m<ipython-input-9-59cd027610ce>\u001b[0m in \u001b[0;36m<cell line: 8>\u001b[0;34m()\u001b[0m\n\u001b[1;32m      6\u001b[0m \u001b[0;31m# or kmf.survival_function_.plot.line()\u001b[0m\u001b[0;34m\u001b[0m\u001b[0;34m\u001b[0m\u001b[0m\n\u001b[1;32m      7\u001b[0m \u001b[0mplt\u001b[0m\u001b[0;34m.\u001b[0m\u001b[0mtitle\u001b[0m\u001b[0;34m(\u001b[0m\u001b[0;34m'KM Survival Function: Leukemia Patients'\u001b[0m\u001b[0;34m)\u001b[0m\u001b[0;34m;\u001b[0m\u001b[0;34m\u001b[0m\u001b[0;34m\u001b[0m\u001b[0m\n\u001b[0;32m----> 8\u001b[0;31m \u001b[0mprint\u001b[0m\u001b[0;34m(\u001b[0m\u001b[0;34mf'Median Survival: {kmf.median_} months after treatment'\u001b[0m\u001b[0;34m)\u001b[0m\u001b[0;34m\u001b[0m\u001b[0;34m\u001b[0m\u001b[0m\n\u001b[0m",
            "\u001b[0;31mAttributeError\u001b[0m: 'KaplanMeierFitter' object has no attribute 'median_'"
          ]
        },
        {
          "output_type": "display_data",
          "data": {
            "text/plain": [
              "<Figure size 640x480 with 1 Axes>"
            ],
            "image/png": "[encoded data removed]"
          },
          "metadata": {}
        }
      ],
      "source": [
        "kmf = lifelines.KaplanMeierFitter()\n",
        "\n",
        "kmf.fit(durations, events)\n",
        "\n",
        "kmf.survival_function_.plot()\n",
        "# or kmf.survival_function_.plot.line()\n",
        "plt.title('KM Survival Function: Leukemia Patients');\n",
        "print(f'Median Survival: {kmf.median_} months after treatment')"
      ]
    },
    {
      "cell_type": "code",
      "execution_count": 12,
      "metadata": {
        "colab": {
          "base_uri": "https://localhost:8080/",
          "height": 472
        },
        "id": "udKT7uBAsgxi",
        "outputId": "7adfda7a-f7db-45fd-8e2a-b012a3093cf7"
      },
      "outputs": [
        {
          "output_type": "display_data",
          "data": {
            "text/plain": [
              "<Figure size 640x480 with 1 Axes>"
            ],
            "image/png": "[encoded data removed]"
          },
          "metadata": {}
        }
      ],
      "source": [
        "# compare the effects of a single categorical variable, \"Rx\"\n",
        "ax = plt.subplot(111)\n",
        "\n",
        "treatment = (leukemia[\"Rx\"] == 1)\n",
        "kmf.fit(durations=durations[treatment],\n",
        "        event_observed=events[treatment],\n",
        "        label=\"Treatment 1\")\n",
        "kmf.plot(ax=ax)\n",
        "# print(f'Median survival time with Treatment 1: {kmf.median_} months')\n",
        "\n",
        "kmf.fit(durations=durations[~treatment],\n",
        "        event_observed=events[~treatment],\n",
        "        label=\"Treatment 0\")\n",
        "kmf.plot(ax=ax)\n",
        "# print(f'Median survival time with Treatment 0: {kmf.median_} months')\n",
        "\n",
        "plt.ylim(0, 1);\n",
        "plt.title(\"Survival Times for Leukemia Treatments\");"
      ]
    },
    {
      "cell_type": "markdown",
      "metadata": {
        "id": "s7zVP8ZbWW8p"
      },
      "source": [
        "**Note:** more jagged lines because of reduced sample size per group"
      ]
    },
    {
      "cell_type": "markdown",
      "metadata": {
        "id": "Ej1Zb4IYsgxr"
      },
      "source": [
        "## Cox Proportional Hazards Model -- Survival Regression\n",
        "Useful for comparing relative hazards (model accepts entire DataFrame).\n",
        "\n",
        "It assumes the ratio of death event risks (hazard) of two groups remains about the same over time.\n",
        "This ratio is called the hazards ratio or the relative risk.\n",
        "\n",
        "All Cox regression requires is an assumption that ratio of hazards is constant over time across groups.\n",
        "\n",
        "*The good news* — we don’t need to know anything about overall shape of risk/hazard over time\n",
        "\n",
        "*The bad news* — the proportionality assumption can be restrictive"
      ]
    },
    {
      "cell_type": "code",
      "execution_count": 13,
      "metadata": {
        "colab": {
          "base_uri": "https://localhost:8080/",
          "height": 548
        },
        "id": "Skypo6ABsgxs",
        "outputId": "1531773e-f815-44d6-b738-c00191477fc8",
        "scrolled": false
      },
      "outputs": [
        {
          "output_type": "display_data",
          "data": {
            "text/plain": [
              "<lifelines.CoxPHFitter: fitted with 42 total observations, 12 right-censored observations>\n",
              "             duration col = 't'\n",
              "                event col = 'status'\n",
              "      baseline estimation = breslow\n",
              "   number of observations = 42\n",
              "number of events observed = 30\n",
              "   partial log-likelihood = -69.59\n",
              "         time fit was run = 2025-01-01 14:57:00 UTC\n",
              "\n",
              "---\n",
              "           coef exp(coef)  se(coef)  coef lower 95%  coef upper 95% exp(coef) lower 95% exp(coef) upper 95%\n",
              "covariate                                                                                                  \n",
              "sex        0.31      1.37      0.45           -0.58            1.21                0.56                3.34\n",
              "logWBC     1.68      5.38      0.34            1.02            2.34                2.78               10.40\n",
              "Rx         1.50      4.50      0.46            0.60            2.41                1.82               11.11\n",
              "\n",
              "           cmp to    z      p  -log2(p)\n",
              "covariate                              \n",
              "sex          0.00 0.69   0.49      1.03\n",
              "logWBC       0.00 5.00 <0.005     20.71\n",
              "Rx           0.00 3.26 <0.005      9.80\n",
              "---\n",
              "Concordance = 0.85\n",
              "Partial AIC = 145.18\n",
              "log-likelihood ratio test = 47.19 on 3 df\n",
              "-log2(p) of ll-ratio test = 31.55"
            ],
            "text/html": [
              "<div>\n",
              "<style scoped>\n",
              "    .dataframe tbody tr th:only-of-type {\n",
              "        vertical-align: middle;\n",
              "    }\n",
              "\n",
              "    .dataframe tbody tr th {\n",
              "        vertical-align: top;\n",
              "    }\n",
              "\n",
              "    .dataframe thead th {\n",
              "        text-align: right;\n",
              "    }\n",
              "</style>\n",
              "<table border=\"1\" class=\"dataframe\">\n",
              "  <tbody>\n",
              "    <tr>\n",
              "      <th>model</th>\n",
              "      <td>lifelines.CoxPHFitter</td>\n",
              "    </tr>\n",
              "    <tr>\n",
              "      <th>duration col</th>\n",
              "      <td>'t'</td>\n",
              "    </tr>\n",
              "    <tr>\n",
              "      <th>event col</th>\n",
              "      <td>'status'</td>\n",
              "    </tr>\n",
              "    <tr>\n",
              "      <th>baseline estimation</th>\n",
              "      <td>breslow</td>\n",
              "    </tr>\n",
              "    <tr>\n",
              "      <th>number of observations</th>\n",
              "      <td>42</td>\n",
              "    </tr>\n",
              "    <tr>\n",
              "      <th>number of events observed</th>\n",
              "      <td>30</td>\n",
              "    </tr>\n",
              "    <tr>\n",
              "      <th>partial log-likelihood</th>\n",
              "      <td>-69.59</td>\n",
              "    </tr>\n",
              "    <tr>\n",
              "      <th>time fit was run</th>\n",
              "      <td>2025-01-01 14:57:00 UTC</td>\n",
              "    </tr>\n",
              "  </tbody>\n",
              "</table>\n",
              "</div><table border=\"1\" class=\"dataframe\">\n",
              "  <thead>\n",
              "    <tr style=\"text-align: right;\">\n",
              "      <th style=\"min-width: 12px;\"></th>\n",
              "      <th style=\"min-width: 12px;\">coef</th>\n",
              "      <th style=\"min-width: 12px;\">exp(coef)</th>\n",
              "      <th style=\"min-width: 12px;\">se(coef)</th>\n",
              "      <th style=\"min-width: 12px;\">coef lower 95%</th>\n",
              "      <th style=\"min-width: 12px;\">coef upper 95%</th>\n",
              "      <th style=\"min-width: 12px;\">exp(coef) lower 95%</th>\n",
              "      <th style=\"min-width: 12px;\">exp(coef) upper 95%</th>\n",
              "      <th style=\"min-width: 12px;\">cmp to</th>\n",
              "      <th style=\"min-width: 12px;\">z</th>\n",
              "      <th style=\"min-width: 12px;\">p</th>\n",
              "      <th style=\"min-width: 12px;\">-log2(p)</th>\n",
              "    </tr>\n",
              "  </thead>\n",
              "  <tbody>\n",
              "    <tr>\n",
              "      <th>sex</th>\n",
              "      <td>0.31</td>\n",
              "      <td>1.37</td>\n",
              "      <td>0.45</td>\n",
              "      <td>-0.58</td>\n",
              "      <td>1.21</td>\n",
              "      <td>0.56</td>\n",
              "      <td>3.34</td>\n",
              "      <td>0.00</td>\n",
              "      <td>0.69</td>\n",
              "      <td>0.49</td>\n",
              "      <td>1.03</td>\n",
              "    </tr>\n",
              "    <tr>\n",
              "      <th>logWBC</th>\n",
              "      <td>1.68</td>\n",
              "      <td>5.38</td>\n",
              "      <td>0.34</td>\n",
              "      <td>1.02</td>\n",
              "      <td>2.34</td>\n",
              "      <td>2.78</td>\n",
              "      <td>10.40</td>\n",
              "      <td>0.00</td>\n",
              "      <td>5.00</td>\n",
              "      <td>&lt;0.005</td>\n",
              "      <td>20.71</td>\n",
              "    </tr>\n",
              "    <tr>\n",
              "      <th>Rx</th>\n",
              "      <td>1.50</td>\n",
              "      <td>4.50</td>\n",
              "      <td>0.46</td>\n",
              "      <td>0.60</td>\n",
              "      <td>2.41</td>\n",
              "      <td>1.82</td>\n",
              "      <td>11.11</td>\n",
              "      <td>0.00</td>\n",
              "      <td>3.26</td>\n",
              "      <td>&lt;0.005</td>\n",
              "      <td>9.80</td>\n",
              "    </tr>\n",
              "  </tbody>\n",
              "</table><br><div>\n",
              "<style scoped>\n",
              "    .dataframe tbody tr th:only-of-type {\n",
              "        vertical-align: middle;\n",
              "    }\n",
              "\n",
              "    .dataframe tbody tr th {\n",
              "        vertical-align: top;\n",
              "    }\n",
              "\n",
              "    .dataframe thead th {\n",
              "        text-align: right;\n",
              "    }\n",
              "</style>\n",
              "<table border=\"1\" class=\"dataframe\">\n",
              "  <tbody>\n",
              "    <tr>\n",
              "      <th>Concordance</th>\n",
              "      <td>0.85</td>\n",
              "    </tr>\n",
              "    <tr>\n",
              "      <th>Partial AIC</th>\n",
              "      <td>145.18</td>\n",
              "    </tr>\n",
              "    <tr>\n",
              "      <th>log-likelihood ratio test</th>\n",
              "      <td>47.19 on 3 df</td>\n",
              "    </tr>\n",
              "    <tr>\n",
              "      <th>-log2(p) of ll-ratio test</th>\n",
              "      <td>31.55</td>\n",
              "    </tr>\n",
              "  </tbody>\n",
              "</table>\n",
              "</div>"
            ],
            "text/latex": "\\begin{tabular}{lrrrrrrrrrrr}\n & coef & exp(coef) & se(coef) & coef lower 95% & coef upper 95% & exp(coef) lower 95% & exp(coef) upper 95% & cmp to & z & p & -log2(p) \\\\\ncovariate &  &  &  &  &  &  &  &  &  &  &  \\\\\nsex & 0.31 & 1.37 & 0.45 & -0.58 & 1.21 & 0.56 & 3.34 & 0.00 & 0.69 & 0.49 & 1.03 \\\\\nlogWBC & 1.68 & 5.38 & 0.34 & 1.02 & 2.34 & 2.78 & 10.40 & 0.00 & 5.00 & 0.00 & 20.71 \\\\\nRx & 1.50 & 4.50 & 0.46 & 0.60 & 2.41 & 1.82 & 11.11 & 0.00 & 3.26 & 0.00 & 9.80 \\\\\n\\end{tabular}\n"
          },
          "metadata": {}
        }
      ],
      "source": [
        "# Using Cox Proportional Hazards model\n",
        "cph = lifelines.CoxPHFitter()\n",
        "cph.fit(df=leukemia, duration_col='t', event_col='status')\n",
        "cph.print_summary()"
      ]
    },
    {
      "cell_type": "markdown",
      "metadata": {
        "id": "sIUr2gT7sgxz"
      },
      "source": [
        "### Interpreting the Results\n",
        "`coef`: usually denoted with $b$, the coefficient\n",
        "\n",
        "`exp(coef)`: $e^{b}$, equals the estimate of the hazard ratio. Here, we can say that participants who received treatment 1 had ~4.5 times the hazard risk (risk of death) compared to those who received treatment 2. And for every unit the `logWBC` increased, the hazard risk increased >5 times.\n",
        "\n",
        "`se(coef)`: standard error of the coefficient (used for calculating z-score and therefore p-value)\n",
        "\n",
        "`z`: z-score $\\frac{b}{se(b)}$\n",
        "\n",
        "`p`: p-value. derived from z-score. describes statistical significance. more specifically, it is the likelihood that the variable has no effect on the outcome\n",
        "\n",
        "`log(p)`: natural logarithm of p-value... used to more easily see differences in significance\n",
        "\n",
        "`lower/upper 0.95`: confidence levels for the coefficients. in this case, we can confidently say that the coefficient for `logWBC` is somewhere _between_ 1.02 and 2.34.\n",
        "\n",
        "`Signif. codes`: easily, visually identify significant variables! The more stars, the more solid (simply based on p-value). Here `logWBC` is highly significant, `Rx` is significant, and `sex` has no statistical significance\n",
        "\n",
        "`Concordance`: a measure of predictive power for classification problems (here looking at the `status` column. a value from 0 to 1 where values above 0.6 are considered good fits (the higher the better)\n",
        "\n",
        "`Likelihood ratio (LR) test`: this is a measure of how likely it is that the coefficients are not zero, and can compare the goodness of fit of a model versus an alternative null model. Is often actually calculated as a logarithm, resulting in the log-likelihood ratio statistic and allowing the distribution of the test statistic to be approximated with [Wilks' theorem](https://en.wikipedia.org/wiki/Wilks%27_theorem)."
      ]
    },
    {
      "cell_type": "code",
      "execution_count": 15,
      "metadata": {
        "colab": {
          "base_uri": "https://localhost:8080/",
          "height": 430
        },
        "id": "SHPFMpUqsgx0",
        "outputId": "0019e0ad-0156-4cdc-a004-604db8a7f0c6"
      },
      "outputs": [
        {
          "output_type": "display_data",
          "data": {
            "text/plain": [
              "<Figure size 640x480 with 1 Axes>"
            ],
            "image/png": "[encoded data removed]"
          },
          "metadata": {}
        }
      ],
      "source": [
        "# investigate continuous feature, must bin with 'values' argument\n",
        "cph.plot_covariate_groups(covariates=['logWBC'], values=np.arange(1.5,5,.5));"
      ]
    },
    {
      "cell_type": "code",
      "execution_count": null,
      "metadata": {
        "colab": {
          "base_uri": "https://localhost:8080/",
          "height": 378
        },
        "id": "hd02Nni_sgx7",
        "outputId": "ababdda0-67e7-412e-8dbe-04139681e466"
      },
      "outputs": [
        {
          "data": {
            "image/png": "[encoded data removed]",
            "text/plain": [
              "<Figure size 432x288 with 1 Axes>"
            ]
          },
          "metadata": {},
          "output_type": "display_data"
        }
      ],
      "source": [
        "# categorical feature\n",
        "cph.plot_covariate_groups(covariate='sex', values=[0,1]);"
      ]
    },
    {
      "cell_type": "markdown",
      "metadata": {
        "id": "-JRvblsIsgyB"
      },
      "source": [
        "Check assumption that the **Cox model assumes the ratio of death events between groups remains constant over time**."
      ]
    },
    {
      "cell_type": "code",
      "execution_count": null,
      "metadata": {
        "colab": {
          "base_uri": "https://localhost:8080/",
          "height": 860
        },
        "id": "XEG4bSlUsgyC",
        "outputId": "289d3d97-6337-40c1-a935-8d9a1cc03f6f"
      },
      "outputs": [
        {
          "name": "stdout",
          "output_type": "stream",
          "text": [
            "\n",
            "The ``p_value_threshold`` is set at 0.05. Even under the null hypothesis of no violations, some covariates\n",
            "will be below the threshold (i.e. by chance). This is compounded when there are many covariates.\n",
            "\n",
            "Similarly, when there are lots of observations, even minor deviances from the proportional hazard\n",
            "assumption will be flagged.\n",
            "\n",
            "With that in mind, it's best to use a combination of statistical tests and eyeball tests to\n",
            "determine the most serious violations.\n",
            "\n",
            "\n",
            "<lifelines.StatisticalResult>\n",
            "         test_name = proportional_hazard_test\n",
            " null_distribution = chi squared\n",
            "degrees_of_freedom = 1\n",
            "\n",
            "---\n",
            "             test_statistic    p  -log2(p)\n",
            "Rx     km              0.23 0.63      0.67\n",
            "       rank            0.44 0.51      0.98\n",
            "logWBC km              0.10 0.76      0.40\n",
            "       rank            0.16 0.68      0.55\n",
            "sex    km              3.78 0.05      4.27\n",
            "       rank            4.91 0.03      5.23\n",
            "\n",
            "\n",
            "1. Variable 'sex' failed the non-proportional test: p-value is 0.0267.\n",
            "   Advice: with so few unique values (only 2), you can try `strata=['sex']` in the call in `.fit`. See documentation in link [A] and [B] below.\n",
            "\n",
            "---\n",
            "[A]  https://lifelines.readthedocs.io/en/latest/jupyter_notebooks/Proportional%20hazard%20assumption.html\n",
            "[B]  https://lifelines.readthedocs.io/en/latest/Survival%20Regression.html#checking-the-proportional-hazards-assumption\n",
            "[C]  https://lifelines.readthedocs.io/en/latest/jupyter_notebooks/Proportional%20hazard%20assumption.html#Option-2:-introduce-time-varying-covariates\n",
            "\n"
          ]
        },
        {
          "name": "stderr",
          "output_type": "stream",
          "text": [
            "C:\\Users\\City_Year\\Anaconda3\\lib\\site-packages\\lifelines\\utils\\__init__.py:900: ConvergenceWarning: Column Rx have very low variance when conditioned on death event present or not. This may harm convergence. This could be a form of 'complete separation'. For example, try the following code:\n",
            ">>> events = df['status'].astype(bool)\n",
            ">>> df.loc[events, 'Rx'].var()\n",
            ">>> df.loc[~events, 'Rx'].var()\n",
            "\n",
            "Too low variance here means that the column Rx completely determines whether a subject dies or not.\n",
            "See https://stats.stackexchange.com/questions/11109/how-to-deal-with-perfect-separation-in-logistic-regression \n",
            "  warnings.warn(warning_text, ConvergenceWarning)\n"
          ]
        }
      ],
      "source": [
        "cph.check_assumptions(leukemia)"
      ]
    },
    {
      "cell_type": "code",
      "execution_count": null,
      "metadata": {
        "colab": {
          "base_uri": "https://localhost:8080/",
          "height": 378
        },
        "id": "ZO_dFbKesgyG",
        "outputId": "a83db192-ed8c-48d3-bbfc-9f0deb1933f9"
      },
      "outputs": [
        {
          "data": {
            "image/png": "[encoded data removed]",
            "text/plain": [
              "<Figure size 432x288 with 1 Axes>"
            ]
          },
          "metadata": {},
          "output_type": "display_data"
        }
      ],
      "source": [
        "# We can see that the sex variable is not very useful by plotting the coefficients\n",
        "cph.plot();"
      ]
    },
    {
      "cell_type": "markdown",
      "metadata": {
        "id": "MM32uWnzWW8r"
      },
      "source": [
        "Let's do what the check_assumptions function suggested:\n",
        "\n",
        ">Advice: with so few unique values (only 2), you can try  `strata=['sex']` in the call in `.fit`."
      ]
    },
    {
      "cell_type": "code",
      "execution_count": null,
      "metadata": {
        "colab": {
          "base_uri": "https://localhost:8080/",
          "height": 347
        },
        "id": "D1rwy5wMsgyL",
        "outputId": "dc25e7d4-dd46-4b32-b566-a33cb42a2b70"
      },
      "outputs": [
        {
          "name": "stdout",
          "output_type": "stream",
          "text": [
            "<lifelines.CoxPHFitter: fitted with 42 observations, 12 censored>\n",
            "      duration col = 't'\n",
            "         event col = 'status'\n",
            "            strata = ['sex']\n",
            "number of subjects = 42\n",
            "  number of events = 30\n",
            "    log-likelihood = -55.73\n",
            "  time fit was run = 2019-02-27 00:22:07 UTC\n",
            "\n",
            "---\n",
            "        coef  exp(coef)  se(coef)    z      p  -log2(p)  lower 0.95  upper 0.95\n",
            "logWBC  1.45       4.28      0.34 4.22 <0.005     15.35        0.78        2.13\n",
            "Rx      1.00       2.71      0.47 2.11   0.04      4.83        0.07        1.93\n",
            "---\n",
            "Concordance = 0.81\n",
            "Log-likelihood ratio test = 69.61 on 2 df, -log2(p)=50.21\n"
          ]
        },
        {
          "name": "stderr",
          "output_type": "stream",
          "text": [
            "C:\\Users\\City_Year\\Anaconda3\\lib\\site-packages\\lifelines\\utils\\__init__.py:900: ConvergenceWarning: Column Rx have very low variance when conditioned on death event present or not. This may harm convergence. This could be a form of 'complete separation'. For example, try the following code:\n",
            ">>> events = df['status'].astype(bool)\n",
            ">>> df.loc[events, 'Rx'].var()\n",
            ">>> df.loc[~events, 'Rx'].var()\n",
            "\n",
            "Too low variance here means that the column Rx completely determines whether a subject dies or not.\n",
            "See https://stats.stackexchange.com/questions/11109/how-to-deal-with-perfect-separation-in-logistic-regression \n",
            "  warnings.warn(warning_text, ConvergenceWarning)\n"
          ]
        },
        {
          "data": {
            "text/plain": [
              "(24, 2)"
            ]
          },
          "execution_count": 14,
          "metadata": {},
          "output_type": "execute_result"
        }
      ],
      "source": [
        "cph = lifelines.CoxPHFitter()\n",
        "cph.fit(df=leukemia, duration_col='t',\n",
        "        event_col='status', strata=['sex'])\n",
        "cph.print_summary()\n",
        "cph.baseline_cumulative_hazard_.shape"
      ]
    },
    {
      "cell_type": "markdown",
      "metadata": {
        "id": "Qn4HZjeGsgyP"
      },
      "source": [
        "This regression:\n",
        "\n",
        "`Log-likelihood ratio test = 69.61 on 2 df, -log2(p)=50.21`\n",
        "\n",
        "Regression including `sex`:\n",
        "\n",
        "`Log-likelihood ratio test = 47.19 on 3 df, -log2(p)=31.55`\n",
        "\n",
        "The `LRT` and `-log2(p)` are higher, meaning this is likely a better fitting model."
      ]
    },
    {
      "cell_type": "code",
      "execution_count": null,
      "metadata": {
        "colab": {
          "base_uri": "https://localhost:8080/",
          "height": 378
        },
        "id": "jL8JzzhIsgyQ",
        "outputId": "a8fc4df7-d7e1-4ca2-a31e-fff221445b84",
        "scrolled": false
      },
      "outputs": [
        {
          "data": {
            "image/png": "[encoded data removed]",
            "text/plain": [
              "<Figure size 432x288 with 1 Axes>"
            ]
          },
          "metadata": {},
          "output_type": "display_data"
        }
      ],
      "source": [
        "cph.plot();"
      ]
    },
    {
      "cell_type": "code",
      "execution_count": null,
      "metadata": {
        "colab": {
          "base_uri": "https://localhost:8080/",
          "height": 1367
        },
        "id": "Py4DYu_XsgyU",
        "outputId": "96a4ce6f-afdd-4eb7-e071-bc69a8eff7ff"
      },
      "outputs": [
        {
          "name": "stderr",
          "output_type": "stream",
          "text": [
            "C:\\Users\\City_Year\\Anaconda3\\lib\\site-packages\\lifelines\\utils\\__init__.py:900: ConvergenceWarning: Column Rx have very low variance when conditioned on death event present or not. This may harm convergence. This could be a form of 'complete separation'. For example, try the following code:\n",
            ">>> events = df['status'].astype(bool)\n",
            ">>> df.loc[events, 'Rx'].var()\n",
            ">>> df.loc[~events, 'Rx'].var()\n",
            "\n",
            "Too low variance here means that the column Rx completely determines whether a subject dies or not.\n",
            "See https://stats.stackexchange.com/questions/11109/how-to-deal-with-perfect-separation-in-logistic-regression \n",
            "  warnings.warn(warning_text, ConvergenceWarning)\n"
          ]
        },
        {
          "data": {
            "text/html": [
              "<div>\n",
              "<style scoped>\n",
              "    .dataframe tbody tr th:only-of-type {\n",
              "        vertical-align: middle;\n",
              "    }\n",
              "\n",
              "    .dataframe tbody tr th {\n",
              "        vertical-align: top;\n",
              "    }\n",
              "\n",
              "    .dataframe thead th {\n",
              "        text-align: right;\n",
              "    }\n",
              "</style>\n",
              "<table border=\"1\" class=\"dataframe\">\n",
              "  <thead>\n",
              "    <tr style=\"text-align: right;\">\n",
              "      <th></th>\n",
              "      <th>logWBC</th>\n",
              "      <th>Rx</th>\n",
              "    </tr>\n",
              "  </thead>\n",
              "  <tbody>\n",
              "    <tr>\n",
              "      <th>34</th>\n",
              "      <td>0.426727</td>\n",
              "      <td>0.337062</td>\n",
              "    </tr>\n",
              "    <tr>\n",
              "      <th>17</th>\n",
              "      <td>0.009454</td>\n",
              "      <td>0.022002</td>\n",
              "    </tr>\n",
              "    <tr>\n",
              "      <th>18</th>\n",
              "      <td>-1.017077</td>\n",
              "      <td>-0.518252</td>\n",
              "    </tr>\n",
              "    <tr>\n",
              "      <th>20</th>\n",
              "      <td>-0.074253</td>\n",
              "      <td>-0.459456</td>\n",
              "    </tr>\n",
              "    <tr>\n",
              "      <th>16</th>\n",
              "      <td>0.074935</td>\n",
              "      <td>-0.047861</td>\n",
              "    </tr>\n",
              "    <tr>\n",
              "      <th>29</th>\n",
              "      <td>0.362845</td>\n",
              "      <td>-0.013866</td>\n",
              "    </tr>\n",
              "    <tr>\n",
              "      <th>30</th>\n",
              "      <td>0.212283</td>\n",
              "      <td>0.116682</td>\n",
              "    </tr>\n",
              "    <tr>\n",
              "      <th>31</th>\n",
              "      <td>-0.386970</td>\n",
              "      <td>0.236943</td>\n",
              "    </tr>\n",
              "    <tr>\n",
              "      <th>15</th>\n",
              "      <td>0.079720</td>\n",
              "      <td>0.161875</td>\n",
              "    </tr>\n",
              "    <tr>\n",
              "      <th>13</th>\n",
              "      <td>0.091508</td>\n",
              "      <td>0.141663</td>\n",
              "    </tr>\n",
              "    <tr>\n",
              "      <th>14</th>\n",
              "      <td>0.079838</td>\n",
              "      <td>-0.492455</td>\n",
              "    </tr>\n",
              "    <tr>\n",
              "      <th>12</th>\n",
              "      <td>0.115002</td>\n",
              "      <td>0.160514</td>\n",
              "    </tr>\n",
              "    <tr>\n",
              "      <th>27</th>\n",
              "      <td>-0.147939</td>\n",
              "      <td>-0.328881</td>\n",
              "    </tr>\n",
              "    <tr>\n",
              "      <th>28</th>\n",
              "      <td>-0.303479</td>\n",
              "      <td>0.109601</td>\n",
              "    </tr>\n",
              "    <tr>\n",
              "      <th>25</th>\n",
              "      <td>-0.996017</td>\n",
              "      <td>0.167586</td>\n",
              "    </tr>\n",
              "    <tr>\n",
              "      <th>26</th>\n",
              "      <td>0.023085</td>\n",
              "      <td>-0.207186</td>\n",
              "    </tr>\n",
              "    <tr>\n",
              "      <th>11</th>\n",
              "      <td>0.182529</td>\n",
              "      <td>0.020503</td>\n",
              "    </tr>\n",
              "    <tr>\n",
              "      <th>24</th>\n",
              "      <td>0.134259</td>\n",
              "      <td>-0.068184</td>\n",
              "    </tr>\n",
              "    <tr>\n",
              "      <th>9</th>\n",
              "      <td>0.306262</td>\n",
              "      <td>0.344271</td>\n",
              "    </tr>\n",
              "    <tr>\n",
              "      <th>23</th>\n",
              "      <td>-0.171575</td>\n",
              "      <td>-0.481631</td>\n",
              "    </tr>\n",
              "    <tr>\n",
              "      <th>8</th>\n",
              "      <td>0.376521</td>\n",
              "      <td>0.382671</td>\n",
              "    </tr>\n",
              "    <tr>\n",
              "      <th>22</th>\n",
              "      <td>0.185337</td>\n",
              "      <td>-0.429448</td>\n",
              "    </tr>\n",
              "    <tr>\n",
              "      <th>40</th>\n",
              "      <td>-1.624796</td>\n",
              "      <td>0.097108</td>\n",
              "    </tr>\n",
              "    <tr>\n",
              "      <th>41</th>\n",
              "      <td>0.241251</td>\n",
              "      <td>0.047132</td>\n",
              "    </tr>\n",
              "    <tr>\n",
              "      <th>38</th>\n",
              "      <td>0.214550</td>\n",
              "      <td>0.045380</td>\n",
              "    </tr>\n",
              "    <tr>\n",
              "      <th>39</th>\n",
              "      <td>0.326342</td>\n",
              "      <td>0.095987</td>\n",
              "    </tr>\n",
              "    <tr>\n",
              "      <th>37</th>\n",
              "      <td>0.263676</td>\n",
              "      <td>0.165380</td>\n",
              "    </tr>\n",
              "    <tr>\n",
              "      <th>35</th>\n",
              "      <td>0.120248</td>\n",
              "      <td>0.031347</td>\n",
              "    </tr>\n",
              "    <tr>\n",
              "      <th>36</th>\n",
              "      <td>-0.704047</td>\n",
              "      <td>0.518576</td>\n",
              "    </tr>\n",
              "    <tr>\n",
              "      <th>33</th>\n",
              "      <td>0.262159</td>\n",
              "      <td>0.256192</td>\n",
              "    </tr>\n",
              "    <tr>\n",
              "      <th>19</th>\n",
              "      <td>0.038438</td>\n",
              "      <td>0.478888</td>\n",
              "    </tr>\n",
              "    <tr>\n",
              "      <th>32</th>\n",
              "      <td>0.479277</td>\n",
              "      <td>0.031551</td>\n",
              "    </tr>\n",
              "    <tr>\n",
              "      <th>10</th>\n",
              "      <td>0.249152</td>\n",
              "      <td>0.449203</td>\n",
              "    </tr>\n",
              "    <tr>\n",
              "      <th>7</th>\n",
              "      <td>0.219107</td>\n",
              "      <td>0.063538</td>\n",
              "    </tr>\n",
              "    <tr>\n",
              "      <th>6</th>\n",
              "      <td>0.329220</td>\n",
              "      <td>-0.035342</td>\n",
              "    </tr>\n",
              "    <tr>\n",
              "      <th>5</th>\n",
              "      <td>0.453363</td>\n",
              "      <td>0.028966</td>\n",
              "    </tr>\n",
              "    <tr>\n",
              "      <th>21</th>\n",
              "      <td>0.346306</td>\n",
              "      <td>0.117375</td>\n",
              "    </tr>\n",
              "    <tr>\n",
              "      <th>4</th>\n",
              "      <td>0.294691</td>\n",
              "      <td>0.100191</td>\n",
              "    </tr>\n",
              "    <tr>\n",
              "      <th>2</th>\n",
              "      <td>0.220840</td>\n",
              "      <td>0.175433</td>\n",
              "    </tr>\n",
              "    <tr>\n",
              "      <th>3</th>\n",
              "      <td>-0.017192</td>\n",
              "      <td>0.272434</td>\n",
              "    </tr>\n",
              "    <tr>\n",
              "      <th>1</th>\n",
              "      <td>0.277180</td>\n",
              "      <td>0.066262</td>\n",
              "    </tr>\n",
              "    <tr>\n",
              "      <th>0</th>\n",
              "      <td>0.275053</td>\n",
              "      <td>0.064517</td>\n",
              "    </tr>\n",
              "  </tbody>\n",
              "</table>\n",
              "</div>"
            ],
            "text/plain": [
              "      logWBC        Rx\n",
              "34  0.426727  0.337062\n",
              "17  0.009454  0.022002\n",
              "18 -1.017077 -0.518252\n",
              "20 -0.074253 -0.459456\n",
              "16  0.074935 -0.047861\n",
              "29  0.362845 -0.013866\n",
              "30  0.212283  0.116682\n",
              "31 -0.386970  0.236943\n",
              "15  0.079720  0.161875\n",
              "13  0.091508  0.141663\n",
              "14  0.079838 -0.492455\n",
              "12  0.115002  0.160514\n",
              "27 -0.147939 -0.328881\n",
              "28 -0.303479  0.109601\n",
              "25 -0.996017  0.167586\n",
              "26  0.023085 -0.207186\n",
              "11  0.182529  0.020503\n",
              "24  0.134259 -0.068184\n",
              "9   0.306262  0.344271\n",
              "23 -0.171575 -0.481631\n",
              "8   0.376521  0.382671\n",
              "22  0.185337 -0.429448\n",
              "40 -1.624796  0.097108\n",
              "41  0.241251  0.047132\n",
              "38  0.214550  0.045380\n",
              "39  0.326342  0.095987\n",
              "37  0.263676  0.165380\n",
              "35  0.120248  0.031347\n",
              "36 -0.704047  0.518576\n",
              "33  0.262159  0.256192\n",
              "19  0.038438  0.478888\n",
              "32  0.479277  0.031551\n",
              "10  0.249152  0.449203\n",
              "7   0.219107  0.063538\n",
              "6   0.329220 -0.035342\n",
              "5   0.453363  0.028966\n",
              "21  0.346306  0.117375\n",
              "4   0.294691  0.100191\n",
              "2   0.220840  0.175433\n",
              "3  -0.017192  0.272434\n",
              "1   0.277180  0.066262\n",
              "0   0.275053  0.064517"
            ]
          },
          "execution_count": 16,
          "metadata": {},
          "output_type": "execute_result"
        }
      ],
      "source": [
        "cph.compute_residuals(leukemia, kind='score')"
      ]
    },
    {
      "cell_type": "code",
      "execution_count": null,
      "metadata": {
        "colab": {
          "base_uri": "https://localhost:8080/",
          "height": 802
        },
        "id": "LMN1uGnQsgyY",
        "outputId": "de3b9044-119a-4c85-b770-0b55713b6155"
      },
      "outputs": [
        {
          "data": {
            "text/html": [
              "<div>\n",
              "<style scoped>\n",
              "    .dataframe tbody tr th:only-of-type {\n",
              "        vertical-align: middle;\n",
              "    }\n",
              "\n",
              "    .dataframe tbody tr th {\n",
              "        vertical-align: top;\n",
              "    }\n",
              "\n",
              "    .dataframe thead th {\n",
              "        text-align: right;\n",
              "    }\n",
              "</style>\n",
              "<table border=\"1\" class=\"dataframe\">\n",
              "  <thead>\n",
              "    <tr style=\"text-align: right;\">\n",
              "      <th></th>\n",
              "      <th>0</th>\n",
              "      <th>1</th>\n",
              "      <th>2</th>\n",
              "      <th>3</th>\n",
              "      <th>4</th>\n",
              "    </tr>\n",
              "  </thead>\n",
              "  <tbody>\n",
              "    <tr>\n",
              "      <th>1.0</th>\n",
              "      <td>0.001231</td>\n",
              "      <td>0.001268</td>\n",
              "      <td>0.003663</td>\n",
              "      <td>0.005919</td>\n",
              "      <td>0.001989</td>\n",
              "    </tr>\n",
              "    <tr>\n",
              "      <th>2.0</th>\n",
              "      <td>0.002998</td>\n",
              "      <td>0.003086</td>\n",
              "      <td>0.008919</td>\n",
              "      <td>0.014410</td>\n",
              "      <td>0.004844</td>\n",
              "    </tr>\n",
              "    <tr>\n",
              "      <th>3.0</th>\n",
              "      <td>0.005017</td>\n",
              "      <td>0.005165</td>\n",
              "      <td>0.014925</td>\n",
              "      <td>0.024114</td>\n",
              "      <td>0.008105</td>\n",
              "    </tr>\n",
              "    <tr>\n",
              "      <th>4.0</th>\n",
              "      <td>0.010236</td>\n",
              "      <td>0.010538</td>\n",
              "      <td>0.030452</td>\n",
              "      <td>0.049199</td>\n",
              "      <td>0.016537</td>\n",
              "    </tr>\n",
              "    <tr>\n",
              "      <th>5.0</th>\n",
              "      <td>0.015623</td>\n",
              "      <td>0.016084</td>\n",
              "      <td>0.046479</td>\n",
              "      <td>0.075091</td>\n",
              "      <td>0.025241</td>\n",
              "    </tr>\n",
              "    <tr>\n",
              "      <th>6.0</th>\n",
              "      <td>0.023143</td>\n",
              "      <td>0.023826</td>\n",
              "      <td>0.068850</td>\n",
              "      <td>0.111234</td>\n",
              "      <td>0.037390</td>\n",
              "    </tr>\n",
              "    <tr>\n",
              "      <th>7.0</th>\n",
              "      <td>0.023143</td>\n",
              "      <td>0.023826</td>\n",
              "      <td>0.068850</td>\n",
              "      <td>0.111234</td>\n",
              "      <td>0.037390</td>\n",
              "    </tr>\n",
              "    <tr>\n",
              "      <th>8.0</th>\n",
              "      <td>0.034436</td>\n",
              "      <td>0.035452</td>\n",
              "      <td>0.102447</td>\n",
              "      <td>0.165514</td>\n",
              "      <td>0.055635</td>\n",
              "    </tr>\n",
              "    <tr>\n",
              "      <th>9.0</th>\n",
              "      <td>0.034436</td>\n",
              "      <td>0.035452</td>\n",
              "      <td>0.102447</td>\n",
              "      <td>0.165514</td>\n",
              "      <td>0.055635</td>\n",
              "    </tr>\n",
              "    <tr>\n",
              "      <th>10.0</th>\n",
              "      <td>0.034436</td>\n",
              "      <td>0.035452</td>\n",
              "      <td>0.102447</td>\n",
              "      <td>0.165514</td>\n",
              "      <td>0.055635</td>\n",
              "    </tr>\n",
              "    <tr>\n",
              "      <th>11.0</th>\n",
              "      <td>0.034436</td>\n",
              "      <td>0.035452</td>\n",
              "      <td>0.102447</td>\n",
              "      <td>0.165514</td>\n",
              "      <td>0.055635</td>\n",
              "    </tr>\n",
              "    <tr>\n",
              "      <th>12.0</th>\n",
              "      <td>0.034436</td>\n",
              "      <td>0.035452</td>\n",
              "      <td>0.102447</td>\n",
              "      <td>0.165514</td>\n",
              "      <td>0.055635</td>\n",
              "    </tr>\n",
              "    <tr>\n",
              "      <th>13.0</th>\n",
              "      <td>0.034436</td>\n",
              "      <td>0.035452</td>\n",
              "      <td>0.102447</td>\n",
              "      <td>0.165514</td>\n",
              "      <td>0.055635</td>\n",
              "    </tr>\n",
              "    <tr>\n",
              "      <th>15.0</th>\n",
              "      <td>0.034436</td>\n",
              "      <td>0.035452</td>\n",
              "      <td>0.102447</td>\n",
              "      <td>0.165514</td>\n",
              "      <td>0.055635</td>\n",
              "    </tr>\n",
              "    <tr>\n",
              "      <th>16.0</th>\n",
              "      <td>0.054096</td>\n",
              "      <td>0.055692</td>\n",
              "      <td>0.160935</td>\n",
              "      <td>0.260006</td>\n",
              "      <td>0.087397</td>\n",
              "    </tr>\n",
              "    <tr>\n",
              "      <th>17.0</th>\n",
              "      <td>0.054096</td>\n",
              "      <td>0.055692</td>\n",
              "      <td>0.160935</td>\n",
              "      <td>0.260006</td>\n",
              "      <td>0.087397</td>\n",
              "    </tr>\n",
              "    <tr>\n",
              "      <th>19.0</th>\n",
              "      <td>0.054096</td>\n",
              "      <td>0.055692</td>\n",
              "      <td>0.160935</td>\n",
              "      <td>0.260006</td>\n",
              "      <td>0.087397</td>\n",
              "    </tr>\n",
              "    <tr>\n",
              "      <th>20.0</th>\n",
              "      <td>0.054096</td>\n",
              "      <td>0.055692</td>\n",
              "      <td>0.160935</td>\n",
              "      <td>0.260006</td>\n",
              "      <td>0.087397</td>\n",
              "    </tr>\n",
              "    <tr>\n",
              "      <th>22.0</th>\n",
              "      <td>0.092795</td>\n",
              "      <td>0.095533</td>\n",
              "      <td>0.276065</td>\n",
              "      <td>0.446010</td>\n",
              "      <td>0.149920</td>\n",
              "    </tr>\n",
              "    <tr>\n",
              "      <th>23.0</th>\n",
              "      <td>0.182488</td>\n",
              "      <td>0.187871</td>\n",
              "      <td>0.542900</td>\n",
              "      <td>0.877109</td>\n",
              "      <td>0.294828</td>\n",
              "    </tr>\n",
              "    <tr>\n",
              "      <th>25.0</th>\n",
              "      <td>0.182488</td>\n",
              "      <td>0.187871</td>\n",
              "      <td>0.542900</td>\n",
              "      <td>0.877109</td>\n",
              "      <td>0.294828</td>\n",
              "    </tr>\n",
              "    <tr>\n",
              "      <th>32.0</th>\n",
              "      <td>0.182488</td>\n",
              "      <td>0.187871</td>\n",
              "      <td>0.542900</td>\n",
              "      <td>0.877109</td>\n",
              "      <td>0.294828</td>\n",
              "    </tr>\n",
              "    <tr>\n",
              "      <th>34.0</th>\n",
              "      <td>0.182488</td>\n",
              "      <td>0.187871</td>\n",
              "      <td>0.542900</td>\n",
              "      <td>0.877109</td>\n",
              "      <td>0.294828</td>\n",
              "    </tr>\n",
              "    <tr>\n",
              "      <th>35.0</th>\n",
              "      <td>0.182488</td>\n",
              "      <td>0.187871</td>\n",
              "      <td>0.542900</td>\n",
              "      <td>0.877109</td>\n",
              "      <td>0.294828</td>\n",
              "    </tr>\n",
              "  </tbody>\n",
              "</table>\n",
              "</div>"
            ],
            "text/plain": [
              "             0         1         2         3         4\n",
              "1.0   0.001231  0.001268  0.003663  0.005919  0.001989\n",
              "2.0   0.002998  0.003086  0.008919  0.014410  0.004844\n",
              "3.0   0.005017  0.005165  0.014925  0.024114  0.008105\n",
              "4.0   0.010236  0.010538  0.030452  0.049199  0.016537\n",
              "5.0   0.015623  0.016084  0.046479  0.075091  0.025241\n",
              "6.0   0.023143  0.023826  0.068850  0.111234  0.037390\n",
              "7.0   0.023143  0.023826  0.068850  0.111234  0.037390\n",
              "8.0   0.034436  0.035452  0.102447  0.165514  0.055635\n",
              "9.0   0.034436  0.035452  0.102447  0.165514  0.055635\n",
              "10.0  0.034436  0.035452  0.102447  0.165514  0.055635\n",
              "11.0  0.034436  0.035452  0.102447  0.165514  0.055635\n",
              "12.0  0.034436  0.035452  0.102447  0.165514  0.055635\n",
              "13.0  0.034436  0.035452  0.102447  0.165514  0.055635\n",
              "15.0  0.034436  0.035452  0.102447  0.165514  0.055635\n",
              "16.0  0.054096  0.055692  0.160935  0.260006  0.087397\n",
              "17.0  0.054096  0.055692  0.160935  0.260006  0.087397\n",
              "19.0  0.054096  0.055692  0.160935  0.260006  0.087397\n",
              "20.0  0.054096  0.055692  0.160935  0.260006  0.087397\n",
              "22.0  0.092795  0.095533  0.276065  0.446010  0.149920\n",
              "23.0  0.182488  0.187871  0.542900  0.877109  0.294828\n",
              "25.0  0.182488  0.187871  0.542900  0.877109  0.294828\n",
              "32.0  0.182488  0.187871  0.542900  0.877109  0.294828\n",
              "34.0  0.182488  0.187871  0.542900  0.877109  0.294828\n",
              "35.0  0.182488  0.187871  0.542900  0.877109  0.294828"
            ]
          },
          "execution_count": 17,
          "metadata": {},
          "output_type": "execute_result"
        }
      ],
      "source": [
        "cph.predict_cumulative_hazard(leukemia[:5])"
      ]
    },
    {
      "cell_type": "code",
      "execution_count": null,
      "metadata": {
        "colab": {
          "base_uri": "https://localhost:8080/",
          "height": 536
        },
        "id": "bs_Npp6osgyc",
        "outputId": "8548bbfa-1576-4bea-d612-46b0ab86d7e6"
      },
      "outputs": [
        {
          "data": {
            "text/html": [
              "<div>\n",
              "<style scoped>\n",
              "    .dataframe tbody tr th:only-of-type {\n",
              "        vertical-align: middle;\n",
              "    }\n",
              "\n",
              "    .dataframe tbody tr th {\n",
              "        vertical-align: top;\n",
              "    }\n",
              "\n",
              "    .dataframe thead th {\n",
              "        text-align: right;\n",
              "    }\n",
              "</style>\n",
              "<table border=\"1\" class=\"dataframe\">\n",
              "  <thead>\n",
              "    <tr style=\"text-align: right;\">\n",
              "      <th></th>\n",
              "      <th>0</th>\n",
              "    </tr>\n",
              "  </thead>\n",
              "  <tbody>\n",
              "    <tr>\n",
              "      <th>0</th>\n",
              "      <td>31.141527</td>\n",
              "    </tr>\n",
              "    <tr>\n",
              "      <th>1</th>\n",
              "      <td>31.063377</td>\n",
              "    </tr>\n",
              "    <tr>\n",
              "      <th>2</th>\n",
              "      <td>26.570826</td>\n",
              "    </tr>\n",
              "    <tr>\n",
              "      <th>3</th>\n",
              "      <td>23.308517</td>\n",
              "    </tr>\n",
              "    <tr>\n",
              "      <th>4</th>\n",
              "      <td>29.577589</td>\n",
              "    </tr>\n",
              "  </tbody>\n",
              "</table>\n",
              "</div>"
            ],
            "text/plain": [
              "           0\n",
              "0  31.141527\n",
              "1  31.063377\n",
              "2  26.570826\n",
              "3  23.308517\n",
              "4  29.577589"
            ]
          },
          "execution_count": 18,
          "metadata": {},
          "output_type": "execute_result"
        },
        {
          "data": {
            "image/png": "[encoded data removed]",
            "text/plain": [
              "<Figure size 432x288 with 1 Axes>"
            ]
          },
          "metadata": {},
          "output_type": "display_data"
        }
      ],
      "source": [
        "surv_func = cph.predict_survival_function(leukemia[:5])\n",
        "\n",
        "exp_lifetime = cph.predict_expectation(leukemia[:5])\n",
        "\n",
        "plt.plot(surv_func)\n",
        "\n",
        "exp_lifetime"
      ]
    },
    {
      "cell_type": "markdown",
      "metadata": {
        "id": "qFR3_Bv7WW8s"
      },
      "source": [
        "# Example 2: Recidivism\n",
        "\n",
        "The Rossi dataset originally comes from Rossi et al. (1980), and is used as an example in Allison (1995).\n",
        "\n",
        "The data pertain to 432 convicts who were released from Maryland state prisons in the 1970s and who were followed up for one year after release. Half the released convicts were assigned at random to an experimental treatment in which they were given financial aid; half did not receive aid."
      ]
    },
    {
      "cell_type": "code",
      "execution_count": null,
      "metadata": {
        "colab": {
          "base_uri": "https://localhost:8080/",
          "height": 206
        },
        "id": "z7NNzQ_5sgyh",
        "outputId": "d8e0f130-4fd9-4ee8-c925-42b225fd885a"
      },
      "outputs": [
        {
          "data": {
            "text/html": [
              "<div>\n",
              "<style scoped>\n",
              "    .dataframe tbody tr th:only-of-type {\n",
              "        vertical-align: middle;\n",
              "    }\n",
              "\n",
              "    .dataframe tbody tr th {\n",
              "        vertical-align: top;\n",
              "    }\n",
              "\n",
              "    .dataframe thead th {\n",
              "        text-align: right;\n",
              "    }\n",
              "</style>\n",
              "<table border=\"1\" class=\"dataframe\">\n",
              "  <thead>\n",
              "    <tr style=\"text-align: right;\">\n",
              "      <th></th>\n",
              "      <th>week</th>\n",
              "      <th>arrest</th>\n",
              "      <th>fin</th>\n",
              "      <th>age</th>\n",
              "      <th>race</th>\n",
              "      <th>wexp</th>\n",
              "      <th>mar</th>\n",
              "      <th>paro</th>\n",
              "      <th>prio</th>\n",
              "    </tr>\n",
              "  </thead>\n",
              "  <tbody>\n",
              "    <tr>\n",
              "      <th>0</th>\n",
              "      <td>20</td>\n",
              "      <td>1</td>\n",
              "      <td>0</td>\n",
              "      <td>27</td>\n",
              "      <td>1</td>\n",
              "      <td>0</td>\n",
              "      <td>0</td>\n",
              "      <td>1</td>\n",
              "      <td>3</td>\n",
              "    </tr>\n",
              "    <tr>\n",
              "      <th>1</th>\n",
              "      <td>17</td>\n",
              "      <td>1</td>\n",
              "      <td>0</td>\n",
              "      <td>18</td>\n",
              "      <td>1</td>\n",
              "      <td>0</td>\n",
              "      <td>0</td>\n",
              "      <td>1</td>\n",
              "      <td>8</td>\n",
              "    </tr>\n",
              "    <tr>\n",
              "      <th>2</th>\n",
              "      <td>25</td>\n",
              "      <td>1</td>\n",
              "      <td>0</td>\n",
              "      <td>19</td>\n",
              "      <td>0</td>\n",
              "      <td>1</td>\n",
              "      <td>0</td>\n",
              "      <td>1</td>\n",
              "      <td>13</td>\n",
              "    </tr>\n",
              "    <tr>\n",
              "      <th>3</th>\n",
              "      <td>52</td>\n",
              "      <td>0</td>\n",
              "      <td>1</td>\n",
              "      <td>23</td>\n",
              "      <td>1</td>\n",
              "      <td>1</td>\n",
              "      <td>1</td>\n",
              "      <td>1</td>\n",
              "      <td>1</td>\n",
              "    </tr>\n",
              "    <tr>\n",
              "      <th>4</th>\n",
              "      <td>52</td>\n",
              "      <td>0</td>\n",
              "      <td>0</td>\n",
              "      <td>19</td>\n",
              "      <td>0</td>\n",
              "      <td>1</td>\n",
              "      <td>0</td>\n",
              "      <td>1</td>\n",
              "      <td>3</td>\n",
              "    </tr>\n",
              "  </tbody>\n",
              "</table>\n",
              "</div>"
            ],
            "text/plain": [
              "   week  arrest  fin  age  race  wexp  mar  paro  prio\n",
              "0    20       1    0   27     1     0    0     1     3\n",
              "1    17       1    0   18     1     0    0     1     8\n",
              "2    25       1    0   19     0     1    0     1    13\n",
              "3    52       0    1   23     1     1    1     1     1\n",
              "4    52       0    0   19     0     1    0     1     3"
            ]
          },
          "execution_count": 19,
          "metadata": {},
          "output_type": "execute_result"
        }
      ],
      "source": [
        "from lifelines.datasets import load_rossi\n",
        "recidivism = load_rossi()\n",
        "\n",
        "recidivism.head()\n",
        "\n",
        "# Looking at the Rossi dataset, how long do you think the study lasted?\n",
        "\n",
        "# All features are coded with numerical values, but which features do you think\n",
        "# are actually categorical?"
      ]
    },
    {
      "cell_type": "code",
      "execution_count": null,
      "metadata": {
        "colab": {
          "base_uri": "https://localhost:8080/",
          "height": 260
        },
        "id": "1VjqAV3ksgyk",
        "outputId": "fd682c6e-d613-44d8-f3cf-1340bdfc2764"
      },
      "outputs": [
        {
          "data": {
            "text/html": [
              "<div>\n",
              "<style scoped>\n",
              "    .dataframe tbody tr th:only-of-type {\n",
              "        vertical-align: middle;\n",
              "    }\n",
              "\n",
              "    .dataframe tbody tr th {\n",
              "        vertical-align: top;\n",
              "    }\n",
              "\n",
              "    .dataframe thead th {\n",
              "        text-align: right;\n",
              "    }\n",
              "</style>\n",
              "<table border=\"1\" class=\"dataframe\">\n",
              "  <thead>\n",
              "    <tr style=\"text-align: right;\">\n",
              "      <th></th>\n",
              "      <th>dtypes</th>\n",
              "      <th>nunique</th>\n",
              "    </tr>\n",
              "  </thead>\n",
              "  <tbody>\n",
              "    <tr>\n",
              "      <th>week</th>\n",
              "      <td>int64</td>\n",
              "      <td>49</td>\n",
              "    </tr>\n",
              "    <tr>\n",
              "      <th>arrest</th>\n",
              "      <td>int64</td>\n",
              "      <td>2</td>\n",
              "    </tr>\n",
              "    <tr>\n",
              "      <th>fin</th>\n",
              "      <td>int64</td>\n",
              "      <td>2</td>\n",
              "    </tr>\n",
              "    <tr>\n",
              "      <th>age</th>\n",
              "      <td>int64</td>\n",
              "      <td>28</td>\n",
              "    </tr>\n",
              "    <tr>\n",
              "      <th>race</th>\n",
              "      <td>int64</td>\n",
              "      <td>2</td>\n",
              "    </tr>\n",
              "    <tr>\n",
              "      <th>wexp</th>\n",
              "      <td>int64</td>\n",
              "      <td>2</td>\n",
              "    </tr>\n",
              "    <tr>\n",
              "      <th>mar</th>\n",
              "      <td>int64</td>\n",
              "      <td>2</td>\n",
              "    </tr>\n",
              "    <tr>\n",
              "      <th>paro</th>\n",
              "      <td>int64</td>\n",
              "      <td>2</td>\n",
              "    </tr>\n",
              "    <tr>\n",
              "      <th>prio</th>\n",
              "      <td>int64</td>\n",
              "      <td>17</td>\n",
              "    </tr>\n",
              "  </tbody>\n",
              "</table>\n",
              "</div>"
            ],
            "text/plain": [
              "       dtypes  nunique\n",
              "week    int64       49\n",
              "arrest  int64        2\n",
              "fin     int64        2\n",
              "age     int64       28\n",
              "race    int64        2\n",
              "wexp    int64        2\n",
              "mar     int64        2\n",
              "paro    int64        2\n",
              "prio    int64       17"
            ]
          },
          "execution_count": 20,
          "metadata": {},
          "output_type": "execute_result"
        }
      ],
      "source": [
        "pd.DataFrame({'dtypes':recidivism.dtypes,\n",
        "              'nunique':recidivism.nunique()})"
      ]
    },
    {
      "cell_type": "code",
      "execution_count": null,
      "metadata": {
        "colab": {
          "base_uri": "https://localhost:8080/",
          "height": 300
        },
        "id": "LVq_ZOFgsgyq",
        "outputId": "2f893d4a-d2a2-462c-85b2-84c6c56c2da4"
      },
      "outputs": [
        {
          "data": {
            "text/html": [
              "<div>\n",
              "<style scoped>\n",
              "    .dataframe tbody tr th:only-of-type {\n",
              "        vertical-align: middle;\n",
              "    }\n",
              "\n",
              "    .dataframe tbody tr th {\n",
              "        vertical-align: top;\n",
              "    }\n",
              "\n",
              "    .dataframe thead th {\n",
              "        text-align: right;\n",
              "    }\n",
              "</style>\n",
              "<table border=\"1\" class=\"dataframe\">\n",
              "  <thead>\n",
              "    <tr style=\"text-align: right;\">\n",
              "      <th></th>\n",
              "      <th>week</th>\n",
              "      <th>arrest</th>\n",
              "      <th>fin</th>\n",
              "      <th>age</th>\n",
              "      <th>race</th>\n",
              "      <th>wexp</th>\n",
              "      <th>mar</th>\n",
              "      <th>paro</th>\n",
              "      <th>prio</th>\n",
              "    </tr>\n",
              "  </thead>\n",
              "  <tbody>\n",
              "    <tr>\n",
              "      <th>count</th>\n",
              "      <td>432.000000</td>\n",
              "      <td>432.000000</td>\n",
              "      <td>432.00000</td>\n",
              "      <td>432.000000</td>\n",
              "      <td>432.000000</td>\n",
              "      <td>432.000000</td>\n",
              "      <td>432.000000</td>\n",
              "      <td>432.000000</td>\n",
              "      <td>432.000000</td>\n",
              "    </tr>\n",
              "    <tr>\n",
              "      <th>mean</th>\n",
              "      <td>45.854167</td>\n",
              "      <td>0.263889</td>\n",
              "      <td>0.50000</td>\n",
              "      <td>24.597222</td>\n",
              "      <td>0.877315</td>\n",
              "      <td>0.571759</td>\n",
              "      <td>0.122685</td>\n",
              "      <td>0.618056</td>\n",
              "      <td>2.983796</td>\n",
              "    </tr>\n",
              "    <tr>\n",
              "      <th>std</th>\n",
              "      <td>12.662293</td>\n",
              "      <td>0.441251</td>\n",
              "      <td>0.50058</td>\n",
              "      <td>6.113375</td>\n",
              "      <td>0.328456</td>\n",
              "      <td>0.495398</td>\n",
              "      <td>0.328456</td>\n",
              "      <td>0.486426</td>\n",
              "      <td>2.896068</td>\n",
              "    </tr>\n",
              "    <tr>\n",
              "      <th>min</th>\n",
              "      <td>1.000000</td>\n",
              "      <td>0.000000</td>\n",
              "      <td>0.00000</td>\n",
              "      <td>17.000000</td>\n",
              "      <td>0.000000</td>\n",
              "      <td>0.000000</td>\n",
              "      <td>0.000000</td>\n",
              "      <td>0.000000</td>\n",
              "      <td>0.000000</td>\n",
              "    </tr>\n",
              "    <tr>\n",
              "      <th>25%</th>\n",
              "      <td>50.000000</td>\n",
              "      <td>0.000000</td>\n",
              "      <td>0.00000</td>\n",
              "      <td>20.000000</td>\n",
              "      <td>1.000000</td>\n",
              "      <td>0.000000</td>\n",
              "      <td>0.000000</td>\n",
              "      <td>0.000000</td>\n",
              "      <td>1.000000</td>\n",
              "    </tr>\n",
              "    <tr>\n",
              "      <th>50%</th>\n",
              "      <td>52.000000</td>\n",
              "      <td>0.000000</td>\n",
              "      <td>0.50000</td>\n",
              "      <td>23.000000</td>\n",
              "      <td>1.000000</td>\n",
              "      <td>1.000000</td>\n",
              "      <td>0.000000</td>\n",
              "      <td>1.000000</td>\n",
              "      <td>2.000000</td>\n",
              "    </tr>\n",
              "    <tr>\n",
              "      <th>75%</th>\n",
              "      <td>52.000000</td>\n",
              "      <td>1.000000</td>\n",
              "      <td>1.00000</td>\n",
              "      <td>27.000000</td>\n",
              "      <td>1.000000</td>\n",
              "      <td>1.000000</td>\n",
              "      <td>0.000000</td>\n",
              "      <td>1.000000</td>\n",
              "      <td>4.000000</td>\n",
              "    </tr>\n",
              "    <tr>\n",
              "      <th>max</th>\n",
              "      <td>52.000000</td>\n",
              "      <td>1.000000</td>\n",
              "      <td>1.00000</td>\n",
              "      <td>44.000000</td>\n",
              "      <td>1.000000</td>\n",
              "      <td>1.000000</td>\n",
              "      <td>1.000000</td>\n",
              "      <td>1.000000</td>\n",
              "      <td>18.000000</td>\n",
              "    </tr>\n",
              "  </tbody>\n",
              "</table>\n",
              "</div>"
            ],
            "text/plain": [
              "             week      arrest        fin         age        race        wexp  \\\n",
              "count  432.000000  432.000000  432.00000  432.000000  432.000000  432.000000   \n",
              "mean    45.854167    0.263889    0.50000   24.597222    0.877315    0.571759   \n",
              "std     12.662293    0.441251    0.50058    6.113375    0.328456    0.495398   \n",
              "min      1.000000    0.000000    0.00000   17.000000    0.000000    0.000000   \n",
              "25%     50.000000    0.000000    0.00000   20.000000    1.000000    0.000000   \n",
              "50%     52.000000    0.000000    0.50000   23.000000    1.000000    1.000000   \n",
              "75%     52.000000    1.000000    1.00000   27.000000    1.000000    1.000000   \n",
              "max     52.000000    1.000000    1.00000   44.000000    1.000000    1.000000   \n",
              "\n",
              "              mar        paro        prio  \n",
              "count  432.000000  432.000000  432.000000  \n",
              "mean     0.122685    0.618056    2.983796  \n",
              "std      0.328456    0.486426    2.896068  \n",
              "min      0.000000    0.000000    0.000000  \n",
              "25%      0.000000    0.000000    1.000000  \n",
              "50%      0.000000    1.000000    2.000000  \n",
              "75%      0.000000    1.000000    4.000000  \n",
              "max      1.000000    1.000000   18.000000  "
            ]
          },
          "execution_count": 21,
          "metadata": {},
          "output_type": "execute_result"
        }
      ],
      "source": [
        "recidivism.describe()"
      ]
    },
    {
      "cell_type": "code",
      "execution_count": null,
      "metadata": {
        "colab": {
          "base_uri": "https://localhost:8080/",
          "height": 376
        },
        "id": "XqhPJfltsgyv",
        "outputId": "c6fa9349-34fe-4c0c-cb24-d7e02fdb24d5"
      },
      "outputs": [
        {
          "data": {
            "image/png": "[encoded data removed]",
            "text/plain": [
              "<Figure size 432x288 with 1 Axes>"
            ]
          },
          "metadata": {},
          "output_type": "display_data"
        }
      ],
      "source": [
        "# plot \"lifelines\" of the study participants as they attempt to avoid recidivism\n",
        "recidivism_sample = recidivism.sample(n=25)\n",
        "\n",
        "duration = recidivism_sample.week.values\n",
        "arrested = recidivism_sample.arrest.values\n",
        "\n",
        "ax = lifelines.plotting.plot_lifetimes(duration, event_observed=arrested)\n",
        "ax.set_xlim(0, 78)\n",
        "ax.grid(axis='x')\n",
        "ax.vlines(52, 0, 25, lw=2, linestyles='--')\n",
        "ax.set_xlabel(\"Time in Weeks\")\n",
        "ax.set_title(\"Recidivism Rates\");\n",
        "plt.plot();"
      ]
    },
    {
      "cell_type": "code",
      "execution_count": null,
      "metadata": {
        "colab": {
          "base_uri": "https://localhost:8080/",
          "height": 34
        },
        "id": "lz4mF5kHsgy1",
        "outputId": "4a0151be-2fbc-4748-db10-da7a3c4acf94"
      },
      "outputs": [
        {
          "data": {
            "text/plain": [
              "<lifelines.KaplanMeierFitter: fitted with 432 observations, 318 censored>"
            ]
          },
          "execution_count": 23,
          "metadata": {},
          "output_type": "execute_result"
        }
      ],
      "source": [
        "kmf = lifelines.KaplanMeierFitter()\n",
        "\n",
        "duration = recidivism.week\n",
        "arrested = recidivism.arrest\n",
        "\n",
        "kmf.fit(duration, arrested)"
      ]
    },
    {
      "cell_type": "code",
      "execution_count": null,
      "metadata": {
        "colab": {
          "base_uri": "https://localhost:8080/",
          "height": 390
        },
        "id": "RA1FMgDNsgy4",
        "outputId": "7393ed69-ecca-4961-a60c-f4c3e7123f40"
      },
      "outputs": [
        {
          "data": {
            "image/png": "[encoded data removed]",
            "text/plain": [
              "<Figure size 432x288 with 1 Axes>"
            ]
          },
          "metadata": {},
          "output_type": "display_data"
        }
      ],
      "source": [
        "kmf.survival_function_.plot()\n",
        "plt.title('Survival Curve:\\nRecidivism of Recently Released Prisoners')\n",
        "plt.ylim(0,1);"
      ]
    },
    {
      "cell_type": "code",
      "execution_count": null,
      "metadata": {
        "colab": {
          "base_uri": "https://localhost:8080/",
          "height": 376
        },
        "id": "PXveA6jesgy8",
        "outputId": "1171a85f-1fdb-4d79-a742-63c444abb7be"
      },
      "outputs": [
        {
          "data": {
            "image/png": "[encoded data removed]",
            "text/plain": [
              "<Figure size 432x288 with 1 Axes>"
            ]
          },
          "metadata": {},
          "output_type": "display_data"
        }
      ],
      "source": [
        "kmf.plot()\n",
        "plt.title('Survival Function of Recidivism Data')\n",
        "plt.ylim(0,1);"
      ]
    },
    {
      "cell_type": "code",
      "execution_count": null,
      "metadata": {
        "colab": {
          "base_uri": "https://localhost:8080/",
          "height": 34
        },
        "id": "Mt3ucIbgsgzB",
        "outputId": "f92e392f-c9d9-466b-a212-db6c4344f1d1",
        "scrolled": true
      },
      "outputs": [
        {
          "name": "stdout",
          "output_type": "stream",
          "text": [
            "Median time before recidivism: inf weeks\n"
          ]
        }
      ],
      "source": [
        "print(f'Median time before recidivism: {kmf.median_} weeks')"
      ]
    },
    {
      "cell_type": "code",
      "execution_count": null,
      "metadata": {
        "colab": {
          "base_uri": "https://localhost:8080/",
          "height": 376
        },
        "id": "c9e5lAV7sgzH",
        "outputId": "3c5489df-d99b-4e8d-8246-4193603365a3"
      },
      "outputs": [
        {
          "data": {
            "image/png": "[encoded data removed]",
            "text/plain": [
              "<Figure size 432x288 with 1 Axes>"
            ]
          },
          "metadata": {},
          "output_type": "display_data"
        }
      ],
      "source": [
        "kmf_w_aid = lifelines.KaplanMeierFitter()\n",
        "kmf_no_aid = lifelines.KaplanMeierFitter()\n",
        "\n",
        "ax = plt.subplot(111)\n",
        "\n",
        "w_aid = (recidivism['fin']==1)\n",
        "\n",
        "t = np.linspace(0, 70, 71)\n",
        "kmf_w_aid.fit(duration[w_aid], event_observed=arrested[w_aid],\n",
        "              timeline=t, label=\"Received Financial Aid\")\n",
        "ax = kmf_w_aid.plot(ax=ax)\n",
        "#print(\"Median survival time of democratic:\", kmf.median_)\n",
        "\n",
        "kmf_no_aid.fit(duration[~w_aid], event_observed=arrested[~w_aid],\n",
        "               timeline=t, label=\"No Financial Aid\")\n",
        "ax = kmf_no_aid.plot(ax=ax)\n",
        "#print(\"Median survival time of non-democratic:\", kmf.median_)\n",
        "\n",
        "plt.ylim(0,1)\n",
        "plt.title(\"Recidivism for Participants Who Received Financial Aid \\nvs. Those Who Did Not\");"
      ]
    },
    {
      "cell_type": "code",
      "execution_count": null,
      "metadata": {
        "colab": {
          "base_uri": "https://localhost:8080/",
          "height": 500
        },
        "id": "zdM4GOAOsgzN",
        "outputId": "a85fa30c-4695-4e93-ffa0-a15f84e733e8"
      },
      "outputs": [
        {
          "name": "stdout",
          "output_type": "stream",
          "text": [
            "          NA_estimate\n",
            "timeline             \n",
            "0.0          0.000000\n",
            "1.0          0.002315\n",
            "2.0          0.004635\n",
            "3.0          0.006961\n",
            "4.0          0.009292\n"
          ]
        },
        {
          "data": {
            "image/png": "[encoded data removed]",
            "text/plain": [
              "<Figure size 432x288 with 1 Axes>"
            ]
          },
          "metadata": {},
          "output_type": "display_data"
        }
      ],
      "source": [
        "naf = lifelines.NelsonAalenFitter()\n",
        "naf.fit(duration, arrested)\n",
        "\n",
        "print(naf.cumulative_hazard_.head())\n",
        "naf.plot();"
      ]
    },
    {
      "cell_type": "code",
      "execution_count": null,
      "metadata": {
        "colab": {
          "base_uri": "https://localhost:8080/",
          "height": 403
        },
        "id": "uJVPVtmYsgzR",
        "outputId": "e11867c7-9a27-4c1d-833c-d07e23ffcbd4"
      },
      "outputs": [
        {
          "data": {
            "image/png": "[encoded data removed]",
            "text/plain": [
              "<Figure size 432x288 with 1 Axes>"
            ]
          },
          "metadata": {},
          "output_type": "display_data"
        }
      ],
      "source": [
        "naf_w_aid = lifelines.NelsonAalenFitter()\n",
        "naf_no_aid = lifelines.NelsonAalenFitter()\n",
        "\n",
        "naf_w_aid.fit(duration[w_aid], event_observed=arrested[w_aid],\n",
        "              timeline=t, label=\"Received Financial Aid\")\n",
        "ax = naf_w_aid.plot(loc=slice(0, 50))\n",
        "naf_no_aid.fit(duration[~w_aid], event_observed=arrested[~w_aid],\n",
        "               timeline=t, label=\"No Financial Aid\")\n",
        "ax = naf_no_aid.plot(ax=ax, loc=slice(0, 50))\n",
        "plt.title(\"Recidivism Cumulative Hazard\\n\"\n",
        "          \"for Participants Who Received Financial Aid \\n\"\n",
        "          \"vs. Those Who Did Not\");"
      ]
    },
    {
      "cell_type": "code",
      "execution_count": null,
      "metadata": {
        "colab": {
          "base_uri": "https://localhost:8080/",
          "height": 503
        },
        "id": "5KbuDkxjsgzV",
        "outputId": "986091a0-00af-4071-bb5a-2e3eefa81544"
      },
      "outputs": [
        {
          "name": "stdout",
          "output_type": "stream",
          "text": [
            "Iteration 1: norm_delta = 0.48337, step_size = 0.9500, ll = -675.38063, newton_decrement = 16.76434, seconds_since_start = 0.0\n",
            "Iteration 2: norm_delta = 0.13160, step_size = 0.9500, ll = -659.79004, newton_decrement = 0.99157, seconds_since_start = 0.0\n",
            "Iteration 3: norm_delta = 0.01712, step_size = 0.9500, ll = -658.76197, newton_decrement = 0.01422, seconds_since_start = 0.0\n",
            "Iteration 4: norm_delta = 0.00108, step_size = 1.0000, ll = -658.74771, newton_decrement = 0.00005, seconds_since_start = 0.0\n",
            "Iteration 5: norm_delta = 0.00000, step_size = 1.0000, ll = -658.74766, newton_decrement = 0.00000, seconds_since_start = 0.0\n",
            "Convergence completed after 5 iterations.\n",
            "<lifelines.CoxPHFitter: fitted with 432 observations, 318 censored>\n",
            "      duration col = 'week'\n",
            "         event col = 'arrest'\n",
            "number of subjects = 432\n",
            "  number of events = 114\n",
            "    log-likelihood = -658.75\n",
            "  time fit was run = 2019-02-27 00:22:32 UTC\n",
            "\n",
            "---\n",
            "      coef  exp(coef)  se(coef)     z      p  -log2(p)  lower 0.95  upper 0.95\n",
            "fin  -0.38       0.68      0.19 -1.98   0.05      4.40       -0.75       -0.00\n",
            "age  -0.06       0.94      0.02 -2.61   0.01      6.79       -0.10       -0.01\n",
            "race  0.31       1.37      0.31  1.02   0.31      1.70       -0.29        0.92\n",
            "wexp -0.15       0.86      0.21 -0.71   0.48      1.06       -0.57        0.27\n",
            "mar  -0.43       0.65      0.38 -1.14   0.26      1.97       -1.18        0.31\n",
            "paro -0.08       0.92      0.20 -0.43   0.66      0.59       -0.47        0.30\n",
            "prio  0.09       1.10      0.03  3.19 <0.005      9.48        0.04        0.15\n",
            "---\n",
            "Concordance = 0.64\n",
            "Log-likelihood ratio test = 33.27 on 7 df, -log2(p)=15.37\n"
          ]
        }
      ],
      "source": [
        "cph = lifelines.CoxPHFitter()\n",
        "cph.fit(recidivism, duration_col='week',\n",
        "        event_col='arrest', show_progress=True)\n",
        "\n",
        "cph.print_summary()"
      ]
    },
    {
      "cell_type": "code",
      "execution_count": null,
      "metadata": {
        "colab": {
          "base_uri": "https://localhost:8080/",
          "height": 378
        },
        "id": "QoWVH0XDsgzX",
        "outputId": "c4635a1e-63e3-41ad-9d85-e6a2881d932f"
      },
      "outputs": [
        {
          "data": {
            "image/png": "[encoded data removed]",
            "text/plain": [
              "<Figure size 432x288 with 1 Axes>"
            ]
          },
          "metadata": {},
          "output_type": "display_data"
        }
      ],
      "source": [
        "cph.plot();"
      ]
    },
    {
      "cell_type": "code",
      "execution_count": null,
      "metadata": {
        "colab": {
          "base_uri": "https://localhost:8080/",
          "height": 378
        },
        "id": "r8qPQeKVsgza",
        "outputId": "7fb32283-e088-43fe-d690-80f0a04e0db7",
        "scrolled": true
      },
      "outputs": [
        {
          "data": {
            "image/png": "[encoded data removed]",
            "text/plain": [
              "<Figure size 432x288 with 1 Axes>"
            ]
          },
          "metadata": {},
          "output_type": "display_data"
        }
      ],
      "source": [
        "cph.plot_covariate_groups('fin', [0, 1]);"
      ]
    },
    {
      "cell_type": "code",
      "execution_count": null,
      "metadata": {
        "colab": {
          "base_uri": "https://localhost:8080/",
          "height": 378
        },
        "id": "PPSlBmp-sgzc",
        "outputId": "2c8aeb86-0152-41ea-8321-a6f858f20f1d"
      },
      "outputs": [
        {
          "data": {
            "image/png": "[encoded data removed]",
            "text/plain": [
              "<Figure size 432x288 with 1 Axes>"
            ]
          },
          "metadata": {},
          "output_type": "display_data"
        }
      ],
      "source": [
        "cph.plot_covariate_groups('prio', [0, 5, 10, 15]);"
      ]
    },
    {
      "cell_type": "code",
      "execution_count": null,
      "metadata": {
        "colab": {
          "base_uri": "https://localhost:8080/",
          "height": 206
        },
        "id": "8H4IMry_sgzf",
        "outputId": "b7e4d43f-7d3b-4844-e7bc-3ebe2976342e"
      },
      "outputs": [
        {
          "data": {
            "text/html": [
              "<div>\n",
              "<style scoped>\n",
              "    .dataframe tbody tr th:only-of-type {\n",
              "        vertical-align: middle;\n",
              "    }\n",
              "\n",
              "    .dataframe tbody tr th {\n",
              "        vertical-align: top;\n",
              "    }\n",
              "\n",
              "    .dataframe thead th {\n",
              "        text-align: right;\n",
              "    }\n",
              "</style>\n",
              "<table border=\"1\" class=\"dataframe\">\n",
              "  <thead>\n",
              "    <tr style=\"text-align: right;\">\n",
              "      <th></th>\n",
              "      <th>week</th>\n",
              "      <th>arrest</th>\n",
              "      <th>martingale</th>\n",
              "    </tr>\n",
              "  </thead>\n",
              "  <tbody>\n",
              "    <tr>\n",
              "      <th>313</th>\n",
              "      <td>1.0</td>\n",
              "      <td>True</td>\n",
              "      <td>0.997048</td>\n",
              "    </tr>\n",
              "    <tr>\n",
              "      <th>100</th>\n",
              "      <td>2.0</td>\n",
              "      <td>True</td>\n",
              "      <td>0.998585</td>\n",
              "    </tr>\n",
              "    <tr>\n",
              "      <th>183</th>\n",
              "      <td>3.0</td>\n",
              "      <td>True</td>\n",
              "      <td>0.993959</td>\n",
              "    </tr>\n",
              "    <tr>\n",
              "      <th>416</th>\n",
              "      <td>4.0</td>\n",
              "      <td>True</td>\n",
              "      <td>0.987465</td>\n",
              "    </tr>\n",
              "    <tr>\n",
              "      <th>79</th>\n",
              "      <td>5.0</td>\n",
              "      <td>True</td>\n",
              "      <td>0.979341</td>\n",
              "    </tr>\n",
              "  </tbody>\n",
              "</table>\n",
              "</div>"
            ],
            "text/plain": [
              "     week  arrest  martingale\n",
              "313   1.0    True    0.997048\n",
              "100   2.0    True    0.998585\n",
              "183   3.0    True    0.993959\n",
              "416   4.0    True    0.987465\n",
              "79    5.0    True    0.979341"
            ]
          },
          "execution_count": 34,
          "metadata": {},
          "output_type": "execute_result"
        }
      ],
      "source": [
        "r = cph.compute_residuals(recidivism, 'martingale')\n",
        "r.head()"
      ]
    },
    {
      "cell_type": "code",
      "execution_count": null,
      "metadata": {
        "colab": {
          "base_uri": "https://localhost:8080/",
          "height": 1579
        },
        "id": "iODFHl9Usgzz",
        "outputId": "130437c6-b2b1-473f-f7a3-165bf7379f9b"
      },
      "outputs": [
        {
          "name": "stdout",
          "output_type": "stream",
          "text": [
            "\n",
            "The ``p_value_threshold`` is set at 0.05. Even under the null hypothesis of no violations, some covariates\n",
            "will be below the threshold (i.e. by chance). This is compounded when there are many covariates.\n",
            "\n",
            "Similarly, when there are lots of observations, even minor deviances from the proportional hazard\n",
            "assumption will be flagged.\n",
            "\n",
            "With that in mind, it's best to use a combination of statistical tests and eyeball tests to\n",
            "determine the most serious violations.\n",
            "\n",
            "\n",
            "<lifelines.StatisticalResult>\n",
            "         test_name = proportional_hazard_test\n",
            " null_distribution = chi squared\n",
            "degrees_of_freedom = 1\n",
            "\n",
            "---\n",
            "           test_statistic      p  -log2(p)\n",
            "age  km             11.03 <0.005     10.12\n",
            "     rank           11.09 <0.005     10.17\n",
            "fin  km              0.02   0.89      0.17\n",
            "     rank            0.02   0.90      0.16\n",
            "mar  km              0.60   0.44      1.19\n",
            "     rank            0.67   0.41      1.27\n",
            "paro km              0.12   0.73      0.45\n",
            "     rank            0.14   0.71      0.49\n",
            "prio km              0.02   0.88      0.18\n",
            "     rank            0.02   0.88      0.18\n",
            "race km              1.44   0.23      2.12\n",
            "     rank            1.46   0.23      2.14\n",
            "wexp km              7.48   0.01      7.32\n",
            "     rank            7.18   0.01      7.08\n",
            "\n",
            "\n",
            "1. Variable 'age' failed the non-proportional test: p-value is 0.0009.\n",
            "   Advice: try binning the variable 'age' using pd.cut, and then specify it in `strata=['age']` in the call in `.fit`. See documentation in link [A] and [B] below.\n",
            "   Advice: try adding an interaction term with your time variable. See documentation in link [A] and specifically link [C] below.\n",
            "\n",
            "2. Variable 'wexp' failed the non-proportional test: p-value is 0.0063.\n",
            "   Advice: with so few unique values (only 2), you can try `strata=['wexp']` in the call in `.fit`. See documentation in link [A] and [B] below.\n",
            "\n",
            "---\n",
            "[A]  https://lifelines.readthedocs.io/en/latest/jupyter_notebooks/Proportional%20hazard%20assumption.html\n",
            "[B]  https://lifelines.readthedocs.io/en/latest/Survival%20Regression.html#checking-the-proportional-hazards-assumption\n",
            "[C]  https://lifelines.readthedocs.io/en/latest/jupyter_notebooks/Proportional%20hazard%20assumption.html#Option-2:-introduce-time-varying-covariates\n",
            "\n"
          ]
        }
      ],
      "source": [
        "cph.check_assumptions(recidivism)"
      ]
    },
    {
      "cell_type": "markdown",
      "metadata": {
        "id": "Su5WdRa139yW"
      },
      "source": [
        "# Example 3: Heart Attack Survival\n",
        "\n",
        "https://archive.ics.uci.edu/ml/datasets/echocardiogram"
      ]
    },
    {
      "cell_type": "code",
      "execution_count": null,
      "metadata": {
        "id": "4GcRG1ussgz1"
      },
      "outputs": [],
      "source": [
        "# TODO"
      ]
    },
    {
      "cell_type": "markdown",
      "metadata": {
        "id": "8tMyVxHRa3cQ"
      },
      "source": [
        "# Example 4: Customer Churn\n",
        "\n",
        "Treselle Systems, a data consulting service, [analyzed customer churn data using logistic regression](http://www.treselle.com/blog/customer-churn-logistic-regression-with-r/). For simply modeling whether or not a customer left, logistic can work, but if we want to model the actual tenure of a customer, survival analysis is more appropriate.\n",
        "\n",
        "The \"tenure\" feature represents the duration that a given customer has been with them, and \"churn\" represents whether or not that customer left (i.e. the \"event\", from a survival analysis perspective).\n",
        "\n",
        "data source: https://github.com/treselle-systems/customer_churn_analysis\n",
        "\n",
        "- What features best model customer churn?\n",
        "- What would you characterize as the \"warning signs\" that a customer may discontinue service?\n",
        "- What actions would you recommend to this business to try to improve their customer retention?\n",
        "\n",
        "Please create at least *3* plots or visualizations to support your findings, and in general write your summary/results targeting an \"interested layperson\" (e.g. your hypothetical business manager) as your audience.\n",
        "\n",
        "This means that, as is often the case in data science, there isn't a single objective right answer - your goal is to *support* your answer, whatever it is, with data and reasoning."
      ]
    },
    {
      "cell_type": "code",
      "execution_count": null,
      "metadata": {
        "colab": {
          "base_uri": "https://localhost:8080/",
          "height": 342
        },
        "id": "OIfMQKnSy8Zl",
        "outputId": "87f6401d-352f-437d-eda8-c4021573d29c"
      },
      "outputs": [
        {
          "data": {
            "text/html": [
              "<div>\n",
              "<style scoped>\n",
              "    .dataframe tbody tr th:only-of-type {\n",
              "        vertical-align: middle;\n",
              "    }\n",
              "\n",
              "    .dataframe tbody tr th {\n",
              "        vertical-align: top;\n",
              "    }\n",
              "\n",
              "    .dataframe thead th {\n",
              "        text-align: right;\n",
              "    }\n",
              "</style>\n",
              "<table border=\"1\" class=\"dataframe\">\n",
              "  <thead>\n",
              "    <tr style=\"text-align: right;\">\n",
              "      <th></th>\n",
              "      <th>customerID</th>\n",
              "      <th>gender</th>\n",
              "      <th>SeniorCitizen</th>\n",
              "      <th>Partner</th>\n",
              "      <th>Dependents</th>\n",
              "      <th>tenure</th>\n",
              "      <th>PhoneService</th>\n",
              "      <th>MultipleLines</th>\n",
              "      <th>InternetService</th>\n",
              "      <th>OnlineSecurity</th>\n",
              "      <th>...</th>\n",
              "      <th>DeviceProtection</th>\n",
              "      <th>TechSupport</th>\n",
              "      <th>StreamingTV</th>\n",
              "      <th>StreamingMovies</th>\n",
              "      <th>Contract</th>\n",
              "      <th>PaperlessBilling</th>\n",
              "      <th>PaymentMethod</th>\n",
              "      <th>MonthlyCharges</th>\n",
              "      <th>TotalCharges</th>\n",
              "      <th>Churn</th>\n",
              "    </tr>\n",
              "  </thead>\n",
              "  <tbody>\n",
              "    <tr>\n",
              "      <th>0</th>\n",
              "      <td>7590-VHVEG</td>\n",
              "      <td>Female</td>\n",
              "      <td>0</td>\n",
              "      <td>Yes</td>\n",
              "      <td>No</td>\n",
              "      <td>1</td>\n",
              "      <td>No</td>\n",
              "      <td>No phone service</td>\n",
              "      <td>DSL</td>\n",
              "      <td>No</td>\n",
              "      <td>...</td>\n",
              "      <td>No</td>\n",
              "      <td>No</td>\n",
              "      <td>No</td>\n",
              "      <td>No</td>\n",
              "      <td>Month-to-month</td>\n",
              "      <td>Yes</td>\n",
              "      <td>Electronic check</td>\n",
              "      <td>29.85</td>\n",
              "      <td>29.85</td>\n",
              "      <td>No</td>\n",
              "    </tr>\n",
              "    <tr>\n",
              "      <th>1</th>\n",
              "      <td>5575-GNVDE</td>\n",
              "      <td>Male</td>\n",
              "      <td>0</td>\n",
              "      <td>No</td>\n",
              "      <td>No</td>\n",
              "      <td>34</td>\n",
              "      <td>Yes</td>\n",
              "      <td>No</td>\n",
              "      <td>DSL</td>\n",
              "      <td>Yes</td>\n",
              "      <td>...</td>\n",
              "      <td>Yes</td>\n",
              "      <td>No</td>\n",
              "      <td>No</td>\n",
              "      <td>No</td>\n",
              "      <td>One year</td>\n",
              "      <td>No</td>\n",
              "      <td>Mailed check</td>\n",
              "      <td>56.95</td>\n",
              "      <td>1889.5</td>\n",
              "      <td>No</td>\n",
              "    </tr>\n",
              "    <tr>\n",
              "      <th>2</th>\n",
              "      <td>3668-QPYBK</td>\n",
              "      <td>Male</td>\n",
              "      <td>0</td>\n",
              "      <td>No</td>\n",
              "      <td>No</td>\n",
              "      <td>2</td>\n",
              "      <td>Yes</td>\n",
              "      <td>No</td>\n",
              "      <td>DSL</td>\n",
              "      <td>Yes</td>\n",
              "      <td>...</td>\n",
              "      <td>No</td>\n",
              "      <td>No</td>\n",
              "      <td>No</td>\n",
              "      <td>No</td>\n",
              "      <td>Month-to-month</td>\n",
              "      <td>Yes</td>\n",
              "      <td>Mailed check</td>\n",
              "      <td>53.85</td>\n",
              "      <td>108.15</td>\n",
              "      <td>Yes</td>\n",
              "    </tr>\n",
              "    <tr>\n",
              "      <th>3</th>\n",
              "      <td>7795-CFOCW</td>\n",
              "      <td>Male</td>\n",
              "      <td>0</td>\n",
              "      <td>No</td>\n",
              "      <td>No</td>\n",
              "      <td>45</td>\n",
              "      <td>No</td>\n",
              "      <td>No phone service</td>\n",
              "      <td>DSL</td>\n",
              "      <td>Yes</td>\n",
              "      <td>...</td>\n",
              "      <td>Yes</td>\n",
              "      <td>Yes</td>\n",
              "      <td>No</td>\n",
              "      <td>No</td>\n",
              "      <td>One year</td>\n",
              "      <td>No</td>\n",
              "      <td>Bank transfer (automatic)</td>\n",
              "      <td>42.30</td>\n",
              "      <td>1840.75</td>\n",
              "      <td>No</td>\n",
              "    </tr>\n",
              "    <tr>\n",
              "      <th>4</th>\n",
              "      <td>9237-HQITU</td>\n",
              "      <td>Female</td>\n",
              "      <td>0</td>\n",
              "      <td>No</td>\n",
              "      <td>No</td>\n",
              "      <td>2</td>\n",
              "      <td>Yes</td>\n",
              "      <td>No</td>\n",
              "      <td>Fiber optic</td>\n",
              "      <td>No</td>\n",
              "      <td>...</td>\n",
              "      <td>No</td>\n",
              "      <td>No</td>\n",
              "      <td>No</td>\n",
              "      <td>No</td>\n",
              "      <td>Month-to-month</td>\n",
              "      <td>Yes</td>\n",
              "      <td>Electronic check</td>\n",
              "      <td>70.70</td>\n",
              "      <td>151.65</td>\n",
              "      <td>Yes</td>\n",
              "    </tr>\n",
              "  </tbody>\n",
              "</table>\n",
              "<p>5 rows × 21 columns</p>\n",
              "</div>"
            ],
            "text/plain": [
              "   customerID  gender  SeniorCitizen Partner Dependents  tenure PhoneService  \\\n",
              "0  7590-VHVEG  Female              0     Yes         No       1           No   \n",
              "1  5575-GNVDE    Male              0      No         No      34          Yes   \n",
              "2  3668-QPYBK    Male              0      No         No       2          Yes   \n",
              "3  7795-CFOCW    Male              0      No         No      45           No   \n",
              "4  9237-HQITU  Female              0      No         No       2          Yes   \n",
              "\n",
              "      MultipleLines InternetService OnlineSecurity  ... DeviceProtection  \\\n",
              "0  No phone service             DSL             No  ...               No   \n",
              "1                No             DSL            Yes  ...              Yes   \n",
              "2                No             DSL            Yes  ...               No   \n",
              "3  No phone service             DSL            Yes  ...              Yes   \n",
              "4                No     Fiber optic             No  ...               No   \n",
              "\n",
              "  TechSupport StreamingTV StreamingMovies        Contract PaperlessBilling  \\\n",
              "0          No          No              No  Month-to-month              Yes   \n",
              "1          No          No              No        One year               No   \n",
              "2          No          No              No  Month-to-month              Yes   \n",
              "3         Yes          No              No        One year               No   \n",
              "4          No          No              No  Month-to-month              Yes   \n",
              "\n",
              "               PaymentMethod MonthlyCharges  TotalCharges Churn  \n",
              "0           Electronic check          29.85         29.85    No  \n",
              "1               Mailed check          56.95        1889.5    No  \n",
              "2               Mailed check          53.85        108.15   Yes  \n",
              "3  Bank transfer (automatic)          42.30       1840.75    No  \n",
              "4           Electronic check          70.70        151.65   Yes  \n",
              "\n",
              "[5 rows x 21 columns]"
            ]
          },
          "execution_count": 23,
          "metadata": {},
          "output_type": "execute_result"
        }
      ],
      "source": [
        "churn_data = pd.read_csv('https://raw.githubusercontent.com/'\n",
        "                         'treselle-systems/customer_churn_analysis/'\n",
        "                         'master/WA_Fn-UseC_-Telco-Customer-Churn.csv')\n",
        "churn_data.head()"
      ]
    },
    {
      "cell_type": "code",
      "execution_count": null,
      "metadata": {
        "id": "3Ua4HZrHWW8w"
      },
      "outputs": [],
      "source": [
        "event_col = 'Churn'\n",
        "duration_col = 'tenure'\n",
        "\n",
        "churn_data[event_col] = churn_data[event_col].map({'No':0, 'Yes':1})\n",
        "\n",
        "predictors = sorted(list(set(churn_data.columns) - set([event_col, duration_col])))"
      ]
    },
    {
      "cell_type": "code",
      "execution_count": null,
      "metadata": {
        "colab": {
          "base_uri": "https://localhost:8080/",
          "height": 469
        },
        "id": "lmGBY5fX0bmu",
        "outputId": "6b57713b-fcc2-4879-a213-30da3fa3d700",
        "scrolled": false
      },
      "outputs": [
        {
          "data": {
            "text/html": [
              "<div>\n",
              "<style scoped>\n",
              "    .dataframe tbody tr th:only-of-type {\n",
              "        vertical-align: middle;\n",
              "    }\n",
              "\n",
              "    .dataframe tbody tr th {\n",
              "        vertical-align: top;\n",
              "    }\n",
              "\n",
              "    .dataframe thead th {\n",
              "        text-align: right;\n",
              "    }\n",
              "</style>\n",
              "<table border=\"1\" class=\"dataframe\">\n",
              "  <thead>\n",
              "    <tr style=\"text-align: right;\">\n",
              "      <th></th>\n",
              "      <th>dtypes</th>\n",
              "      <th>nunique</th>\n",
              "    </tr>\n",
              "  </thead>\n",
              "  <tbody>\n",
              "    <tr>\n",
              "      <th>Contract</th>\n",
              "      <td>object</td>\n",
              "      <td>3</td>\n",
              "    </tr>\n",
              "    <tr>\n",
              "      <th>Dependents</th>\n",
              "      <td>object</td>\n",
              "      <td>2</td>\n",
              "    </tr>\n",
              "    <tr>\n",
              "      <th>DeviceProtection</th>\n",
              "      <td>object</td>\n",
              "      <td>3</td>\n",
              "    </tr>\n",
              "    <tr>\n",
              "      <th>InternetService</th>\n",
              "      <td>object</td>\n",
              "      <td>3</td>\n",
              "    </tr>\n",
              "    <tr>\n",
              "      <th>MonthlyCharges</th>\n",
              "      <td>float64</td>\n",
              "      <td>1585</td>\n",
              "    </tr>\n",
              "    <tr>\n",
              "      <th>MultipleLines</th>\n",
              "      <td>object</td>\n",
              "      <td>3</td>\n",
              "    </tr>\n",
              "    <tr>\n",
              "      <th>OnlineBackup</th>\n",
              "      <td>object</td>\n",
              "      <td>3</td>\n",
              "    </tr>\n",
              "    <tr>\n",
              "      <th>OnlineSecurity</th>\n",
              "      <td>object</td>\n",
              "      <td>3</td>\n",
              "    </tr>\n",
              "    <tr>\n",
              "      <th>PaperlessBilling</th>\n",
              "      <td>object</td>\n",
              "      <td>2</td>\n",
              "    </tr>\n",
              "    <tr>\n",
              "      <th>Partner</th>\n",
              "      <td>object</td>\n",
              "      <td>2</td>\n",
              "    </tr>\n",
              "    <tr>\n",
              "      <th>PaymentMethod</th>\n",
              "      <td>object</td>\n",
              "      <td>4</td>\n",
              "    </tr>\n",
              "    <tr>\n",
              "      <th>PhoneService</th>\n",
              "      <td>object</td>\n",
              "      <td>2</td>\n",
              "    </tr>\n",
              "    <tr>\n",
              "      <th>SeniorCitizen</th>\n",
              "      <td>int64</td>\n",
              "      <td>2</td>\n",
              "    </tr>\n",
              "    <tr>\n",
              "      <th>StreamingMovies</th>\n",
              "      <td>object</td>\n",
              "      <td>3</td>\n",
              "    </tr>\n",
              "    <tr>\n",
              "      <th>StreamingTV</th>\n",
              "      <td>object</td>\n",
              "      <td>3</td>\n",
              "    </tr>\n",
              "    <tr>\n",
              "      <th>TechSupport</th>\n",
              "      <td>object</td>\n",
              "      <td>3</td>\n",
              "    </tr>\n",
              "    <tr>\n",
              "      <th>TotalCharges</th>\n",
              "      <td>object</td>\n",
              "      <td>6531</td>\n",
              "    </tr>\n",
              "    <tr>\n",
              "      <th>customerID</th>\n",
              "      <td>object</td>\n",
              "      <td>7043</td>\n",
              "    </tr>\n",
              "    <tr>\n",
              "      <th>gender</th>\n",
              "      <td>object</td>\n",
              "      <td>2</td>\n",
              "    </tr>\n",
              "  </tbody>\n",
              "</table>\n",
              "</div>"
            ],
            "text/plain": [
              "                   dtypes  nunique\n",
              "Contract           object        3\n",
              "Dependents         object        2\n",
              "DeviceProtection   object        3\n",
              "InternetService    object        3\n",
              "MonthlyCharges    float64     1585\n",
              "MultipleLines      object        3\n",
              "OnlineBackup       object        3\n",
              "OnlineSecurity     object        3\n",
              "PaperlessBilling   object        2\n",
              "Partner            object        2\n",
              "PaymentMethod      object        4\n",
              "PhoneService       object        2\n",
              "SeniorCitizen       int64        2\n",
              "StreamingMovies    object        3\n",
              "StreamingTV        object        3\n",
              "TechSupport        object        3\n",
              "TotalCharges       object     6531\n",
              "customerID         object     7043\n",
              "gender             object        2"
            ]
          },
          "execution_count": 25,
          "metadata": {},
          "output_type": "execute_result"
        }
      ],
      "source": [
        "pd.DataFrame({'dtypes':churn_data[predictors].dtypes,\n",
        "              'nunique':churn_data[predictors].nunique()})"
      ]
    },
    {
      "cell_type": "markdown",
      "metadata": {
        "id": "yhoKUI7zWW8w"
      },
      "source": [
        "`TotalCharges` should be numeric, contains ' '"
      ]
    },
    {
      "cell_type": "code",
      "execution_count": null,
      "metadata": {
        "id": "IA2BvGNIWW8w"
      },
      "outputs": [],
      "source": [
        "# InternetService was perfectly collienar with StreamingMovies and StreamingTV\n",
        "to_dummy = ['Partner', 'InternetService', 'SeniorCitizen',\n",
        "            'gender', 'Dependents', 'Contract']"
      ]
    },
    {
      "cell_type": "code",
      "execution_count": null,
      "metadata": {
        "scrolled": false,
        "id": "6vUCsVNsWW8w",
        "outputId": "7fd285fa-fbb3-46bc-df99-5fd99a880492"
      },
      "outputs": [
        {
          "name": "stdout",
          "output_type": "stream",
          "text": [
            "Partner\n",
            "No     3641\n",
            "Yes    3402\n",
            "Name: Partner, dtype: int64\n",
            "\n",
            "\n",
            "InternetService\n",
            "Fiber optic    3096\n",
            "DSL            2421\n",
            "No             1526\n",
            "Name: InternetService, dtype: int64\n",
            "\n",
            "\n",
            "SeniorCitizen\n",
            "0    5901\n",
            "1    1142\n",
            "Name: SeniorCitizen, dtype: int64\n",
            "\n",
            "\n",
            "gender\n",
            "Male      3555\n",
            "Female    3488\n",
            "Name: gender, dtype: int64\n",
            "\n",
            "\n",
            "Dependents\n",
            "No     4933\n",
            "Yes    2110\n",
            "Name: Dependents, dtype: int64\n",
            "\n",
            "\n",
            "Contract\n",
            "Month-to-month    3875\n",
            "Two year          1695\n",
            "One year          1473\n",
            "Name: Contract, dtype: int64\n",
            "\n",
            "\n"
          ]
        }
      ],
      "source": [
        "for col in to_dummy:\n",
        "    print(col, '\\n', churn_data[col].value_counts(),\n",
        "          '\\n\\n', sep='')"
      ]
    },
    {
      "cell_type": "code",
      "execution_count": null,
      "metadata": {
        "id": "Ou3xQLW0WW8x"
      },
      "outputs": [],
      "source": [
        "churn_data['Contract'] = churn_data['Contract'].map({'Month-to-month':'No'})\n",
        "churn_data['gender'] = churn_data['gender'].map({'Male':'No'})"
      ]
    },
    {
      "cell_type": "code",
      "execution_count": null,
      "metadata": {
        "scrolled": false,
        "id": "UMhbZ7sTWW8x"
      },
      "outputs": [],
      "source": [
        "for col in to_dummy:\n",
        "    if 'No' in churn_data[col].unique():\n",
        "        churn_data[col] = churn_data[col].map({'No':0}).fillna(1)"
      ]
    },
    {
      "cell_type": "code",
      "execution_count": null,
      "metadata": {
        "id": "pAwJ96gyWW8x"
      },
      "outputs": [],
      "source": [
        "predictors = to_dummy"
      ]
    },
    {
      "cell_type": "code",
      "execution_count": null,
      "metadata": {
        "id": "wne4G-6RWW8x",
        "outputId": "1467b05a-f574-4714-dcf8-f96f6b0d2c67"
      },
      "outputs": [
        {
          "data": {
            "text/html": [
              "<div>\n",
              "<style scoped>\n",
              "    .dataframe tbody tr th:only-of-type {\n",
              "        vertical-align: middle;\n",
              "    }\n",
              "\n",
              "    .dataframe tbody tr th {\n",
              "        vertical-align: top;\n",
              "    }\n",
              "\n",
              "    .dataframe thead th {\n",
              "        text-align: right;\n",
              "    }\n",
              "</style>\n",
              "<table border=\"1\" class=\"dataframe\">\n",
              "  <thead>\n",
              "    <tr style=\"text-align: right;\">\n",
              "      <th></th>\n",
              "      <th>Churn</th>\n",
              "      <th>tenure</th>\n",
              "      <th>Partner</th>\n",
              "      <th>InternetService</th>\n",
              "      <th>SeniorCitizen</th>\n",
              "      <th>gender</th>\n",
              "      <th>Dependents</th>\n",
              "      <th>Contract</th>\n",
              "    </tr>\n",
              "  </thead>\n",
              "  <tbody>\n",
              "    <tr>\n",
              "      <th>Churn</th>\n",
              "      <td>1.000000</td>\n",
              "      <td>-0.352229</td>\n",
              "      <td>-0.150448</td>\n",
              "      <td>0.227890</td>\n",
              "      <td>0.150889</td>\n",
              "      <td>0.008612</td>\n",
              "      <td>-0.164221</td>\n",
              "      <td>-0.405103</td>\n",
              "    </tr>\n",
              "    <tr>\n",
              "      <th>tenure</th>\n",
              "      <td>-0.352229</td>\n",
              "      <td>1.000000</td>\n",
              "      <td>0.379697</td>\n",
              "      <td>0.039062</td>\n",
              "      <td>0.016567</td>\n",
              "      <td>-0.005106</td>\n",
              "      <td>0.159712</td>\n",
              "      <td>0.645561</td>\n",
              "    </tr>\n",
              "    <tr>\n",
              "      <th>Partner</th>\n",
              "      <td>-0.150448</td>\n",
              "      <td>0.379697</td>\n",
              "      <td>1.000000</td>\n",
              "      <td>-0.000615</td>\n",
              "      <td>0.016479</td>\n",
              "      <td>0.001808</td>\n",
              "      <td>0.452676</td>\n",
              "      <td>0.280865</td>\n",
              "    </tr>\n",
              "    <tr>\n",
              "      <th>InternetService</th>\n",
              "      <td>0.227890</td>\n",
              "      <td>0.039062</td>\n",
              "      <td>-0.000615</td>\n",
              "      <td>1.000000</td>\n",
              "      <td>0.182742</td>\n",
              "      <td>0.006026</td>\n",
              "      <td>-0.139812</td>\n",
              "      <td>-0.218639</td>\n",
              "    </tr>\n",
              "    <tr>\n",
              "      <th>SeniorCitizen</th>\n",
              "      <td>0.150889</td>\n",
              "      <td>0.016567</td>\n",
              "      <td>0.016479</td>\n",
              "      <td>0.182742</td>\n",
              "      <td>1.000000</td>\n",
              "      <td>0.001874</td>\n",
              "      <td>-0.211185</td>\n",
              "      <td>-0.138360</td>\n",
              "    </tr>\n",
              "    <tr>\n",
              "      <th>gender</th>\n",
              "      <td>0.008612</td>\n",
              "      <td>-0.005106</td>\n",
              "      <td>0.001808</td>\n",
              "      <td>0.006026</td>\n",
              "      <td>0.001874</td>\n",
              "      <td>1.000000</td>\n",
              "      <td>-0.010517</td>\n",
              "      <td>-0.003386</td>\n",
              "    </tr>\n",
              "    <tr>\n",
              "      <th>Dependents</th>\n",
              "      <td>-0.164221</td>\n",
              "      <td>0.159712</td>\n",
              "      <td>0.452676</td>\n",
              "      <td>-0.139812</td>\n",
              "      <td>-0.211185</td>\n",
              "      <td>-0.010517</td>\n",
              "      <td>1.000000</td>\n",
              "      <td>0.231720</td>\n",
              "    </tr>\n",
              "    <tr>\n",
              "      <th>Contract</th>\n",
              "      <td>-0.405103</td>\n",
              "      <td>0.645561</td>\n",
              "      <td>0.280865</td>\n",
              "      <td>-0.218639</td>\n",
              "      <td>-0.138360</td>\n",
              "      <td>-0.003386</td>\n",
              "      <td>0.231720</td>\n",
              "      <td>1.000000</td>\n",
              "    </tr>\n",
              "  </tbody>\n",
              "</table>\n",
              "</div>"
            ],
            "text/plain": [
              "                    Churn    tenure   Partner  InternetService  SeniorCitizen  \\\n",
              "Churn            1.000000 -0.352229 -0.150448         0.227890       0.150889   \n",
              "tenure          -0.352229  1.000000  0.379697         0.039062       0.016567   \n",
              "Partner         -0.150448  0.379697  1.000000        -0.000615       0.016479   \n",
              "InternetService  0.227890  0.039062 -0.000615         1.000000       0.182742   \n",
              "SeniorCitizen    0.150889  0.016567  0.016479         0.182742       1.000000   \n",
              "gender           0.008612 -0.005106  0.001808         0.006026       0.001874   \n",
              "Dependents      -0.164221  0.159712  0.452676        -0.139812      -0.211185   \n",
              "Contract        -0.405103  0.645561  0.280865        -0.218639      -0.138360   \n",
              "\n",
              "                   gender  Dependents  Contract  \n",
              "Churn            0.008612   -0.164221 -0.405103  \n",
              "tenure          -0.005106    0.159712  0.645561  \n",
              "Partner          0.001808    0.452676  0.280865  \n",
              "InternetService  0.006026   -0.139812 -0.218639  \n",
              "SeniorCitizen    0.001874   -0.211185 -0.138360  \n",
              "gender           1.000000   -0.010517 -0.003386  \n",
              "Dependents      -0.010517    1.000000  0.231720  \n",
              "Contract        -0.003386    0.231720  1.000000  "
            ]
          },
          "execution_count": 31,
          "metadata": {},
          "output_type": "execute_result"
        }
      ],
      "source": [
        "churn_data[[event_col, duration_col] + predictors].corr()"
      ]
    },
    {
      "cell_type": "code",
      "execution_count": null,
      "metadata": {
        "id": "e6_0w7-7WW8x",
        "outputId": "96399add-83b1-43f0-bada-719131c69057"
      },
      "outputs": [
        {
          "name": "stdout",
          "output_type": "stream",
          "text": [
            "<lifelines.CoxPHFitter: fitted with 7043 observations, 5174 censored>\n",
            "      duration col = 'tenure'\n",
            "         event col = 'Churn'\n",
            "number of subjects = 7043\n",
            "  number of events = 1869\n",
            "    log-likelihood = -14323.25\n",
            "  time fit was run = 2019-02-27 16:00:43 UTC\n",
            "\n",
            "---\n",
            "                 coef  exp(coef)  se(coef)      z      p  -log2(p)  lower 0.95  upper 0.95\n",
            "Partner         -0.60       0.55      0.05 -11.10 <0.005     92.64       -0.71       -0.50\n",
            "InternetService  0.59       1.81      0.10   5.97 <0.005     28.63        0.40        0.79\n",
            "SeniorCitizen    0.02       1.02      0.06   0.32   0.75      0.42       -0.09        0.13\n",
            "gender           0.03       1.04      0.05   0.75   0.45      1.14       -0.06        0.13\n",
            "Dependents      -0.15       0.86      0.07  -2.13   0.03      4.93       -0.28       -0.01\n",
            "Contract        -2.78       0.06      0.08 -33.85 <0.005    831.82       -2.94       -2.62\n",
            "---\n",
            "Concordance = 0.81\n",
            "Log-likelihood ratio test = 2659.57 on 6 df, -log2(p)=inf\n"
          ]
        }
      ],
      "source": [
        "cph = lifelines.CoxPHFitter()\n",
        "cph.fit(churn_data[[event_col, duration_col] + predictors],\n",
        "        duration_col=duration_col, event_col=event_col)\n",
        "\n",
        "cph.print_summary()"
      ]
    },
    {
      "cell_type": "code",
      "execution_count": null,
      "metadata": {
        "scrolled": true,
        "id": "5v7KnK8oWW8x",
        "outputId": "25f6bdec-9b70-4179-d1d9-977c5ce6f028"
      },
      "outputs": [
        {
          "data": {
            "image/png": "[encoded data removed]",
            "text/plain": [
              "<Figure size 432x288 with 1 Axes>"
            ]
          },
          "metadata": {},
          "output_type": "display_data"
        }
      ],
      "source": [
        "cph.plot();"
      ]
    },
    {
      "cell_type": "code",
      "execution_count": null,
      "metadata": {
        "id": "Pam_a5uHWW8x",
        "outputId": "2c895bb8-16bc-45a7-c895-f854f3a75597"
      },
      "outputs": [
        {
          "data": {
            "image/png": "[encoded data removed]",
            "text/plain": [
              "<Figure size 432x288 with 1 Axes>"
            ]
          },
          "metadata": {},
          "output_type": "display_data"
        }
      ],
      "source": [
        "# categorical feature\n",
        "cph.plot_covariate_groups(covariate='Contract', values=[0,1]);"
      ]
    },
    {
      "cell_type": "code",
      "execution_count": null,
      "metadata": {
        "id": "c7dOwvLAWW8y",
        "outputId": "28ff3214-f57a-46a2-87cb-7e7879e8d866"
      },
      "outputs": [
        {
          "data": {
            "image/png": "[encoded data removed]",
            "text/plain": [
              "<Figure size 432x288 with 1 Axes>"
            ]
          },
          "metadata": {},
          "output_type": "display_data"
        }
      ],
      "source": [
        "# categorical feature\n",
        "cph.plot_covariate_groups(covariate='InternetService', values=[0,1]);"
      ]
    },
    {
      "cell_type": "code",
      "execution_count": null,
      "metadata": {
        "id": "c4iOtrw_WW8y",
        "outputId": "cdf6c9bd-62b3-41f5-e5c8-a78954ad4ba2"
      },
      "outputs": [
        {
          "name": "stdout",
          "output_type": "stream",
          "text": [
            "\n",
            "The ``p_value_threshold`` is set at 0.05. Even under the null hypothesis of no violations, some covariates\n",
            "will be below the threshold (i.e. by chance). This is compounded when there are many covariates.\n",
            "\n",
            "Similarly, when there are lots of observations, even minor deviances from the proportional hazard\n",
            "assumption will be flagged.\n",
            "\n",
            "With that in mind, it's best to use a combination of statistical tests and eyeball tests to\n",
            "determine the most serious violations.\n",
            "\n",
            "\n",
            "<lifelines.StatisticalResult>\n",
            "         test_name = proportional_hazard_test\n",
            " null_distribution = chi squared\n",
            "degrees_of_freedom = 1\n",
            "\n",
            "---\n",
            "                      test_statistic      p  -log2(p)\n",
            "Contract        km             85.28 <0.005     65.07\n",
            "                rank           69.59 <0.005     53.61\n",
            "Dependents      km              0.62   0.43      1.22\n",
            "                rank            0.67   0.41      1.28\n",
            "InternetService km             28.91 <0.005     23.65\n",
            "                rank           32.29 <0.005     26.16\n",
            "Partner         km             14.92 <0.005     13.12\n",
            "                rank           18.27 <0.005     15.67\n",
            "SeniorCitizen   km              1.73   0.19      2.41\n",
            "                rank            2.25   0.13      2.91\n",
            "gender          km              1.18   0.28      1.85\n",
            "                rank            0.38   0.54      0.90\n",
            "\n",
            "\n",
            "1. Variable 'Partner' failed the non-proportional test: p-value is <5e-05.\n",
            "   Advice: with so few unique values (only 2), you can try `strata=['Partner']` in the call in `.fit`. See documentation in link [A] and [B] below.\n",
            "\n",
            "2. Variable 'InternetService' failed the non-proportional test: p-value is <5e-05.\n",
            "   Advice: with so few unique values (only 2), you can try `strata=['InternetService']` in the call in `.fit`. See documentation in link [A] and [B] below.\n",
            "\n",
            "3. Variable 'Contract' failed the non-proportional test: p-value is <5e-05.\n",
            "   Advice: with so few unique values (only 2), you can try `strata=['Contract']` in the call in `.fit`. See documentation in link [A] and [B] below.\n",
            "\n",
            "---\n",
            "[A]  https://lifelines.readthedocs.io/en/latest/jupyter_notebooks/Proportional%20hazard%20assumption.html\n",
            "[B]  https://lifelines.readthedocs.io/en/latest/Survival%20Regression.html#checking-the-proportional-hazards-assumption\n",
            "[C]  https://lifelines.readthedocs.io/en/latest/jupyter_notebooks/Proportional%20hazard%20assumption.html#Option-2:-introduce-time-varying-covariates\n",
            "\n"
          ]
        }
      ],
      "source": [
        "cph.check_assumptions(churn_data[[event_col, duration_col] + predictors])"
      ]
    }
  ],
  "metadata": {
    "jupytext": {
      "formats": "ipynb,py:light"
    },
    "kernelspec": {
      "display_name": "Python 3",
      "language": "python",
      "name": "python3"
    },
    "language_info": {
      "codemirror_mode": {
        "name": "ipython",
        "version": 3
      },
      "file_extension": ".py",
      "mimetype": "text/x-python",
      "name": "python",
      "nbconvert_exporter": "python",
      "pygments_lexer": "ipython3",
      "version": "3.6.4"
    },
    "colab": {
      "provenance": [],
      "include_colab_link": true
    }
  },
  "nbformat": 4,
  "nbformat_minor": 0
}